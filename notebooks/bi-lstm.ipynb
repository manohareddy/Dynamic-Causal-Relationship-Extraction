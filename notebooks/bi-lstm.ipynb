{
 "cells": [
  {
   "cell_type": "code",
   "execution_count": 2,
   "metadata": {},
   "outputs": [
    {
     "name": "stderr",
     "output_type": "stream",
     "text": [
      "/Users/manohar/anaconda3/lib/python3.6/site-packages/h5py/__init__.py:34: FutureWarning: Conversion of the second argument of issubdtype from `float` to `np.floating` is deprecated. In future, it will be treated as `np.float64 == np.dtype(float).type`.\n",
      "  from ._conv import register_converters as _register_converters\n",
      "Using TensorFlow backend.\n",
      "/Users/manohar/anaconda3/lib/python3.6/site-packages/tensorflow/python/framework/dtypes.py:516: FutureWarning: Passing (type, 1) or '1type' as a synonym of type is deprecated; in a future version of numpy, it will be understood as (type, (1,)) / '(1,)type'.\n",
      "  _np_qint8 = np.dtype([(\"qint8\", np.int8, 1)])\n",
      "/Users/manohar/anaconda3/lib/python3.6/site-packages/tensorflow/python/framework/dtypes.py:517: FutureWarning: Passing (type, 1) or '1type' as a synonym of type is deprecated; in a future version of numpy, it will be understood as (type, (1,)) / '(1,)type'.\n",
      "  _np_quint8 = np.dtype([(\"quint8\", np.uint8, 1)])\n",
      "/Users/manohar/anaconda3/lib/python3.6/site-packages/tensorflow/python/framework/dtypes.py:518: FutureWarning: Passing (type, 1) or '1type' as a synonym of type is deprecated; in a future version of numpy, it will be understood as (type, (1,)) / '(1,)type'.\n",
      "  _np_qint16 = np.dtype([(\"qint16\", np.int16, 1)])\n",
      "/Users/manohar/anaconda3/lib/python3.6/site-packages/tensorflow/python/framework/dtypes.py:519: FutureWarning: Passing (type, 1) or '1type' as a synonym of type is deprecated; in a future version of numpy, it will be understood as (type, (1,)) / '(1,)type'.\n",
      "  _np_quint16 = np.dtype([(\"quint16\", np.uint16, 1)])\n",
      "/Users/manohar/anaconda3/lib/python3.6/site-packages/tensorflow/python/framework/dtypes.py:520: FutureWarning: Passing (type, 1) or '1type' as a synonym of type is deprecated; in a future version of numpy, it will be understood as (type, (1,)) / '(1,)type'.\n",
      "  _np_qint32 = np.dtype([(\"qint32\", np.int32, 1)])\n",
      "/Users/manohar/anaconda3/lib/python3.6/site-packages/tensorflow/python/framework/dtypes.py:525: FutureWarning: Passing (type, 1) or '1type' as a synonym of type is deprecated; in a future version of numpy, it will be understood as (type, (1,)) / '(1,)type'.\n",
      "  np_resource = np.dtype([(\"resource\", np.ubyte, 1)])\n",
      "/Users/manohar/anaconda3/lib/python3.6/site-packages/tensorboard/compat/tensorflow_stub/dtypes.py:541: FutureWarning: Passing (type, 1) or '1type' as a synonym of type is deprecated; in a future version of numpy, it will be understood as (type, (1,)) / '(1,)type'.\n",
      "  _np_qint8 = np.dtype([(\"qint8\", np.int8, 1)])\n",
      "/Users/manohar/anaconda3/lib/python3.6/site-packages/tensorboard/compat/tensorflow_stub/dtypes.py:542: FutureWarning: Passing (type, 1) or '1type' as a synonym of type is deprecated; in a future version of numpy, it will be understood as (type, (1,)) / '(1,)type'.\n",
      "  _np_quint8 = np.dtype([(\"quint8\", np.uint8, 1)])\n",
      "/Users/manohar/anaconda3/lib/python3.6/site-packages/tensorboard/compat/tensorflow_stub/dtypes.py:543: FutureWarning: Passing (type, 1) or '1type' as a synonym of type is deprecated; in a future version of numpy, it will be understood as (type, (1,)) / '(1,)type'.\n",
      "  _np_qint16 = np.dtype([(\"qint16\", np.int16, 1)])\n",
      "/Users/manohar/anaconda3/lib/python3.6/site-packages/tensorboard/compat/tensorflow_stub/dtypes.py:544: FutureWarning: Passing (type, 1) or '1type' as a synonym of type is deprecated; in a future version of numpy, it will be understood as (type, (1,)) / '(1,)type'.\n",
      "  _np_quint16 = np.dtype([(\"quint16\", np.uint16, 1)])\n",
      "/Users/manohar/anaconda3/lib/python3.6/site-packages/tensorboard/compat/tensorflow_stub/dtypes.py:545: FutureWarning: Passing (type, 1) or '1type' as a synonym of type is deprecated; in a future version of numpy, it will be understood as (type, (1,)) / '(1,)type'.\n",
      "  _np_qint32 = np.dtype([(\"qint32\", np.int32, 1)])\n",
      "/Users/manohar/anaconda3/lib/python3.6/site-packages/tensorboard/compat/tensorflow_stub/dtypes.py:550: FutureWarning: Passing (type, 1) or '1type' as a synonym of type is deprecated; in a future version of numpy, it will be understood as (type, (1,)) / '(1,)type'.\n",
      "  np_resource = np.dtype([(\"resource\", np.ubyte, 1)])\n"
     ]
    }
   ],
   "source": [
    "import numpy as np\n",
    "import pandas as pd\n",
    "import json\n",
    "import pickle\n",
    "import os\n",
    "import numpy as np\n",
    "import pickle, sys, os\n",
    "from keras.preprocessing.sequence import pad_sequences\n",
    "from keras.utils.np_utils import to_categorical\n",
    "from keras.layers import Embedding\n",
    "from keras.layers import Dense, Input, Flatten\n",
    "from keras.layers import TimeDistributed\n",
    "from keras.layers import LSTM, Bidirectional\n",
    "from keras.models import Model, load_model\n",
    "from sklearn.model_selection import train_test_split\n",
    "from sklearn.utils import shuffle\n",
    "from sklearn.metrics import accuracy_score, confusion_matrix"
   ]
  },
  {
   "cell_type": "code",
   "execution_count": 3,
   "metadata": {},
   "outputs": [],
   "source": [
    "df=pd.read_excel('Batch_3666796_batch_results.xlsx')"
   ]
  },
  {
   "cell_type": "code",
   "execution_count": 3,
   "metadata": {},
   "outputs": [
    {
     "data": {
      "text/plain": [
       "(739, 7)"
      ]
     },
     "execution_count": 3,
     "metadata": {},
     "output_type": "execute_result"
    }
   ],
   "source": [
    "df.shape"
   ]
  },
  {
   "cell_type": "code",
   "execution_count": 5,
   "metadata": {},
   "outputs": [
    {
     "data": {
      "text/plain": [
       "AssignmentStatus                                                        Approved\n",
       "ApprovalTime                                        Fri Jun 07 13:34:35 PDT 2019\n",
       "Input.sentence                 Early insulin secretion is important for the r...\n",
       "Answer.Causal word / phrase                                     is important for\n",
       "Answer.Cause word / phrase                               Early insulin secretion\n",
       "Answer.Effect word / phrase    efficient suppression of endogenous glucose pr...\n",
       "Answer.Label-relationship                                                  Cause\n",
       "Name: 10, dtype: object"
      ]
     },
     "execution_count": 5,
     "metadata": {},
     "output_type": "execute_result"
    }
   ],
   "source": [
    "df.iloc[10,:]."
   ]
  },
  {
   "cell_type": "code",
   "execution_count": 5,
   "metadata": {
    "collapsed": true
   },
   "outputs": [],
   "source": [
    "df.columns=['as', 'at', 'sentences', 'cc', 'c', 'e', 'ans']"
   ]
  },
  {
   "cell_type": "code",
   "execution_count": 6,
   "metadata": {
    "collapsed": true
   },
   "outputs": [],
   "source": [
    "df=df.apply(lambda x: x.astype(str).str.lower())"
   ]
  },
  {
   "cell_type": "code",
   "execution_count": 7,
   "metadata": {},
   "outputs": [
    {
     "ename": "KeyError",
     "evalue": "\"['dataset'] not in index\"",
     "output_type": "error",
     "traceback": [
      "\u001b[0;31m---------------------------------------------------------------------------\u001b[0m",
      "\u001b[0;31mKeyError\u001b[0m                                  Traceback (most recent call last)",
      "\u001b[0;32m<ipython-input-7-e7b4a4c2490c>\u001b[0m in \u001b[0;36m<module>\u001b[0;34m()\u001b[0m\n\u001b[0;32m----> 1\u001b[0;31m \u001b[0mdf\u001b[0m\u001b[0;34m[\u001b[0m\u001b[0;34m[\u001b[0m\u001b[0;34m'sentences'\u001b[0m\u001b[0;34m,\u001b[0m\u001b[0;34m'dataset'\u001b[0m\u001b[0;34m]\u001b[0m\u001b[0;34m]\u001b[0m\u001b[0;34m.\u001b[0m\u001b[0mto_csv\u001b[0m\u001b[0;34m(\u001b[0m\u001b[0;34m'mturk_sents.csv'\u001b[0m\u001b[0;34m)\u001b[0m\u001b[0;34m\u001b[0m\u001b[0m\n\u001b[0m",
      "\u001b[0;32m~/anaconda3/lib/python3.6/site-packages/pandas/core/frame.py\u001b[0m in \u001b[0;36m__getitem__\u001b[0;34m(self, key)\u001b[0m\n\u001b[1;32m   1956\u001b[0m         \u001b[0;32mif\u001b[0m \u001b[0misinstance\u001b[0m\u001b[0;34m(\u001b[0m\u001b[0mkey\u001b[0m\u001b[0;34m,\u001b[0m \u001b[0;34m(\u001b[0m\u001b[0mSeries\u001b[0m\u001b[0;34m,\u001b[0m \u001b[0mnp\u001b[0m\u001b[0;34m.\u001b[0m\u001b[0mndarray\u001b[0m\u001b[0;34m,\u001b[0m \u001b[0mIndex\u001b[0m\u001b[0;34m,\u001b[0m \u001b[0mlist\u001b[0m\u001b[0;34m)\u001b[0m\u001b[0;34m)\u001b[0m\u001b[0;34m:\u001b[0m\u001b[0;34m\u001b[0m\u001b[0m\n\u001b[1;32m   1957\u001b[0m             \u001b[0;31m# either boolean or fancy integer index\u001b[0m\u001b[0;34m\u001b[0m\u001b[0;34m\u001b[0m\u001b[0m\n\u001b[0;32m-> 1958\u001b[0;31m             \u001b[0;32mreturn\u001b[0m \u001b[0mself\u001b[0m\u001b[0;34m.\u001b[0m\u001b[0m_getitem_array\u001b[0m\u001b[0;34m(\u001b[0m\u001b[0mkey\u001b[0m\u001b[0;34m)\u001b[0m\u001b[0;34m\u001b[0m\u001b[0m\n\u001b[0m\u001b[1;32m   1959\u001b[0m         \u001b[0;32melif\u001b[0m \u001b[0misinstance\u001b[0m\u001b[0;34m(\u001b[0m\u001b[0mkey\u001b[0m\u001b[0;34m,\u001b[0m \u001b[0mDataFrame\u001b[0m\u001b[0;34m)\u001b[0m\u001b[0;34m:\u001b[0m\u001b[0;34m\u001b[0m\u001b[0m\n\u001b[1;32m   1960\u001b[0m             \u001b[0;32mreturn\u001b[0m \u001b[0mself\u001b[0m\u001b[0;34m.\u001b[0m\u001b[0m_getitem_frame\u001b[0m\u001b[0;34m(\u001b[0m\u001b[0mkey\u001b[0m\u001b[0;34m)\u001b[0m\u001b[0;34m\u001b[0m\u001b[0m\n",
      "\u001b[0;32m~/anaconda3/lib/python3.6/site-packages/pandas/core/frame.py\u001b[0m in \u001b[0;36m_getitem_array\u001b[0;34m(self, key)\u001b[0m\n\u001b[1;32m   2000\u001b[0m             \u001b[0;32mreturn\u001b[0m \u001b[0mself\u001b[0m\u001b[0;34m.\u001b[0m\u001b[0mtake\u001b[0m\u001b[0;34m(\u001b[0m\u001b[0mindexer\u001b[0m\u001b[0;34m,\u001b[0m \u001b[0maxis\u001b[0m\u001b[0;34m=\u001b[0m\u001b[0;36m0\u001b[0m\u001b[0;34m,\u001b[0m \u001b[0mconvert\u001b[0m\u001b[0;34m=\u001b[0m\u001b[0;32mFalse\u001b[0m\u001b[0;34m)\u001b[0m\u001b[0;34m\u001b[0m\u001b[0m\n\u001b[1;32m   2001\u001b[0m         \u001b[0;32melse\u001b[0m\u001b[0;34m:\u001b[0m\u001b[0;34m\u001b[0m\u001b[0m\n\u001b[0;32m-> 2002\u001b[0;31m             \u001b[0mindexer\u001b[0m \u001b[0;34m=\u001b[0m \u001b[0mself\u001b[0m\u001b[0;34m.\u001b[0m\u001b[0mloc\u001b[0m\u001b[0;34m.\u001b[0m\u001b[0m_convert_to_indexer\u001b[0m\u001b[0;34m(\u001b[0m\u001b[0mkey\u001b[0m\u001b[0;34m,\u001b[0m \u001b[0maxis\u001b[0m\u001b[0;34m=\u001b[0m\u001b[0;36m1\u001b[0m\u001b[0;34m)\u001b[0m\u001b[0;34m\u001b[0m\u001b[0m\n\u001b[0m\u001b[1;32m   2003\u001b[0m             \u001b[0;32mreturn\u001b[0m \u001b[0mself\u001b[0m\u001b[0;34m.\u001b[0m\u001b[0mtake\u001b[0m\u001b[0;34m(\u001b[0m\u001b[0mindexer\u001b[0m\u001b[0;34m,\u001b[0m \u001b[0maxis\u001b[0m\u001b[0;34m=\u001b[0m\u001b[0;36m1\u001b[0m\u001b[0;34m,\u001b[0m \u001b[0mconvert\u001b[0m\u001b[0;34m=\u001b[0m\u001b[0;32mTrue\u001b[0m\u001b[0;34m)\u001b[0m\u001b[0;34m\u001b[0m\u001b[0m\n\u001b[1;32m   2004\u001b[0m \u001b[0;34m\u001b[0m\u001b[0m\n",
      "\u001b[0;32m~/anaconda3/lib/python3.6/site-packages/pandas/core/indexing.py\u001b[0m in \u001b[0;36m_convert_to_indexer\u001b[0;34m(self, obj, axis, is_setter)\u001b[0m\n\u001b[1;32m   1229\u001b[0m                 \u001b[0mmask\u001b[0m \u001b[0;34m=\u001b[0m \u001b[0mcheck\u001b[0m \u001b[0;34m==\u001b[0m \u001b[0;34m-\u001b[0m\u001b[0;36m1\u001b[0m\u001b[0;34m\u001b[0m\u001b[0m\n\u001b[1;32m   1230\u001b[0m                 \u001b[0;32mif\u001b[0m \u001b[0mmask\u001b[0m\u001b[0;34m.\u001b[0m\u001b[0many\u001b[0m\u001b[0;34m(\u001b[0m\u001b[0;34m)\u001b[0m\u001b[0;34m:\u001b[0m\u001b[0;34m\u001b[0m\u001b[0m\n\u001b[0;32m-> 1231\u001b[0;31m                     \u001b[0;32mraise\u001b[0m \u001b[0mKeyError\u001b[0m\u001b[0;34m(\u001b[0m\u001b[0;34m'%s not in index'\u001b[0m \u001b[0;34m%\u001b[0m \u001b[0mobjarr\u001b[0m\u001b[0;34m[\u001b[0m\u001b[0mmask\u001b[0m\u001b[0;34m]\u001b[0m\u001b[0;34m)\u001b[0m\u001b[0;34m\u001b[0m\u001b[0m\n\u001b[0m\u001b[1;32m   1232\u001b[0m \u001b[0;34m\u001b[0m\u001b[0m\n\u001b[1;32m   1233\u001b[0m                 \u001b[0;32mreturn\u001b[0m \u001b[0m_values_from_object\u001b[0m\u001b[0;34m(\u001b[0m\u001b[0mindexer\u001b[0m\u001b[0;34m)\u001b[0m\u001b[0;34m\u001b[0m\u001b[0m\n",
      "\u001b[0;31mKeyError\u001b[0m: \"['dataset'] not in index\""
     ]
    }
   ],
   "source": [
    "df[['sentences','dataset']].to_csv('mturk_sents.csv')"
   ]
  },
  {
   "cell_type": "code",
   "execution_count": 9,
   "metadata": {
    "collapsed": true
   },
   "outputs": [],
   "source": [
    "t=[]\n",
    "words=[]\n",
    "X_train=[]\n",
    "Y_train=['cc', 'c', 'e', 'n']\n",
    "\n",
    "for ind, val in df.iterrows():\n",
    "    l=[]\n",
    "    sent=val.sentences.split()\n",
    "    cc=val['cc'].split()\n",
    "    c=val['c'].split()\n",
    "    e=val['e'].split()\n",
    "\n",
    "    for i in sent:\n",
    "        if i in cc:\n",
    "            l.append((i+'/cc'))\n",
    "        elif i in c:\n",
    "            l.append((i+'/c'))\n",
    "        elif i in e:\n",
    "            l.append((i+'/e'))\n",
    "        else:\n",
    "            l.append((i+'/n'))\n",
    "    t.append(l)"
   ]
  },
  {
   "cell_type": "code",
   "execution_count": 279,
   "metadata": {
    "collapsed": true
   },
   "outputs": [],
   "source": [
    "#X_train list of split sentences [[akmak,anfa], [afjnadn,jadnfud],....]\n",
    "#Y_train list of lists of tags for sentences [[c,n,cc,e], [c,e],...]\n",
    "#words is all words set\n",
    "#tags is set of all tags\n",
    "#"
   ]
  },
  {
   "cell_type": "code",
   "execution_count": 280,
   "metadata": {
    "collapsed": true
   },
   "outputs": [],
   "source": [
    "with open(r'ndtv.pickle', 'rb') as f:\n",
    "    ndtv=pickle.loads(f.read())\n",
    "with open(r'toi_key_extract.pickle', 'rb') as f:\n",
    "    toi=pickle.loads(f.read())\n",
    "    \n"
   ]
  },
  {
   "cell_type": "code",
   "execution_count": 281,
   "metadata": {
    "collapsed": true
   },
   "outputs": [],
   "source": [
    "ndtv=[j.strip().replace('-', ',') for i in ndtv for j in i]\n",
    "toi=[j.strip().replace('-', ',') for j in toi ]"
   ]
  },
  {
   "cell_type": "code",
   "execution_count": 282,
   "metadata": {},
   "outputs": [
    {
     "data": {
      "text/plain": [
       "'meanwhile, northern parts of madhya pradesh , districts of bundelkhand and vindhya region also continued to experience heatwave conditions'"
      ]
     },
     "execution_count": 282,
     "metadata": {},
     "output_type": "execute_result"
    }
   ],
   "source": [
    "toi[0]"
   ]
  },
  {
   "cell_type": "code",
   "execution_count": 283,
   "metadata": {
    "collapsed": true
   },
   "outputs": [],
   "source": [
    "\n",
    "toi_vocab=[l for v in [i.split() for i in toi] for l in v]\n",
    "ndtv_vocab=[l for v in [i.split() for i in ndtv] for l in v]\n",
    "news_vocab=toi_vocab+ndtv_vocab"
   ]
  },
  {
   "cell_type": "code",
   "execution_count": 284,
   "metadata": {},
   "outputs": [
    {
     "data": {
      "text/plain": [
       "84511"
      ]
     },
     "execution_count": 284,
     "metadata": {},
     "output_type": "execute_result"
    }
   ],
   "source": [
    "len(new_vocab)"
   ]
  },
  {
   "cell_type": "code",
   "execution_count": 285,
   "metadata": {
    "collapsed": true
   },
   "outputs": [],
   "source": [
    "new_vocab=set(news_vocab)"
   ]
  },
  {
   "cell_type": "code",
   "execution_count": 10,
   "metadata": {},
   "outputs": [
    {
     "name": "stdout",
     "output_type": "stream",
     "text": [
      "OMITTED sentences:  22 \n",
      "\n",
      "TOTAL NO OF SAMPLES:  739 \n",
      "\n",
      "sample X_train:  ['t2dm', 'causes', 'brain', 'insulin', 'resistance,', 'oxidative', 'stress,', 'and', 'cognitive', 'impairment,', 'but', 'its', 'aggregate', 'effects', 'fall', 'far', 'short', 'of', 'mimicking', 'ad;'] \n",
      "\n",
      "sample Y_train:  ['n', 'n', 'e', 'e', 'n', 'e', 'e', 'n', 'e', 'n', 'n', 'n', 'c', 'c', 'cc', 'cc', 'cc', 'n', 'e', 'n'] \n",
      "\n",
      "VOCAB SIZE:  2851\n",
      "TOTAL TAGS:  4\n"
     ]
    }
   ],
   "source": [
    "X_train = []\n",
    "Y_train = []\n",
    "\n",
    "words = []\n",
    "tags = []\n",
    "\n",
    "with_slash = False\n",
    "n_omitted = 0\n",
    "\n",
    "for line in t:\n",
    "    if(len(line)>0):\n",
    "        tempX = []\n",
    "        tempY = []\n",
    "        for word in line:\n",
    "            try:            \n",
    "                w, tag = word.split('/')\n",
    "            except:\n",
    "                # with_slash = True\n",
    "                n_omitted = n_omitted + 1\n",
    "                break\n",
    "\n",
    "            w = w.lower()\n",
    "            words.append(w)\n",
    "            tags.append(tag)\n",
    "\n",
    "            tempX.append(w)\n",
    "            tempY.append(tag)\n",
    "        \n",
    "        X_train.append(tempX)\n",
    "        Y_train.append(tempY)\n",
    "\n",
    "\n",
    "print('OMITTED sentences: ', n_omitted, '\\n')\n",
    "print('TOTAL NO OF SAMPLES: ', len(X_train), '\\n')\n",
    "\n",
    "\n",
    "print('sample X_train: ', X_train[42], '\\n')\n",
    "print('sample Y_train: ', Y_train[42], '\\n')\n",
    "\n",
    "words = set(words)\n",
    "tags = set(tags)\n",
    "\n",
    "print('VOCAB SIZE: ', len(words))\n",
    "print('TOTAL TAGS: ', len(tags))\n",
    "\n",
    "assert len(X_train) == len(Y_train)"
   ]
  },
  {
   "cell_type": "code",
   "execution_count": 287,
   "metadata": {
    "collapsed": true
   },
   "outputs": [],
   "source": [
    "words=(set(list(words)+list(new_vocab)))"
   ]
  },
  {
   "cell_type": "code",
   "execution_count": 11,
   "metadata": {},
   "outputs": [
    {
     "name": "stdout",
     "output_type": "stream",
     "text": [
      "sample X_train_numberised:  [2460, 500, 2600, 1698, 59, 894, 1713, 2170, 1457, 1537, 41, 2327, 983, 2650, 1910, 208, 2818, 434, 2199, 572] \n",
      "\n",
      "sample Y_train_numberised:  [3, 3, 2, 2, 3, 2, 2, 3, 2, 3, 3, 3, 1, 1, 4, 4, 4, 3, 2, 3] \n",
      "\n"
     ]
    }
   ],
   "source": [
    "\n",
    "word2int = {}\n",
    "int2word = {}\n",
    "\n",
    "for i, word in enumerate(words):\n",
    "    word2int[word] = i+1\n",
    "    int2word[i+1] = word\n",
    "\n",
    "tag2int = {}\n",
    "int2tag = {}\n",
    "\n",
    "for i, tag in enumerate(tags):\n",
    "    tag2int[tag] = i+1\n",
    "    int2tag[i+1] = tag\n",
    "\n",
    "X_train_numberised = []\n",
    "Y_train_numberised = []\n",
    "\n",
    "for sentence in X_train:\n",
    "    tempX = []\n",
    "    for word in sentence:\n",
    "        tempX.append(word2int[word])\n",
    "    X_train_numberised.append(tempX)\n",
    "\n",
    "for tags in Y_train:\n",
    "    tempY = []\n",
    "    for tag in tags:\n",
    "        tempY.append(tag2int[tag])\n",
    "    Y_train_numberised.append(tempY)\n",
    "\n",
    "print('sample X_train_numberised: ', X_train_numberised[42], '\\n')\n",
    "print('sample Y_train_numberised: ', Y_train_numberised[42], '\\n')\n",
    "\n",
    "X_train_numberised = np.asarray(X_train_numberised)\n",
    "Y_train_numberised = np.asarray(Y_train_numberised)\n",
    "\n",
    "pickle_files = [X_train_numberised, Y_train_numberised, word2int, int2word, tag2int, int2tag]\n"
   ]
  },
  {
   "cell_type": "code",
   "execution_count": 12,
   "metadata": {
    "collapsed": true
   },
   "outputs": [],
   "source": [
    "embeddings_index = {}\n",
    "\n",
    "with open('glove.6B/glove.6B.100d.txt', encoding=\"utf8\") as glove_file:\n",
    "    for line in glove_file:\n",
    "        values = line.split()\n",
    "        word = values[0]\n",
    "        coefs = np.asarray(values[1:], dtype='float32')\n",
    "        embeddings_index[word] = coefs\n"
   ]
  },
  {
   "cell_type": "code",
   "execution_count": 13,
   "metadata": {
    "collapsed": true
   },
   "outputs": [],
   "source": [
    "\n",
    "# PARAMETERS ================\n",
    "MAX_SEQUENCE_LENGTH = 100\n",
    "EMBEDDING_DIM = 100\n",
    "TEST_SPLIT = 0.1\n",
    "VALIDATION_SPLIT = 0.1\n",
    "BATCH_SIZE = 8\n"
   ]
  },
  {
   "cell_type": "code",
   "execution_count": 16,
   "metadata": {
    "collapsed": true
   },
   "outputs": [],
   "source": [
    "X, y, word2int, int2word, tag2int, int2tag = pickle_files "
   ]
  },
  {
   "cell_type": "code",
   "execution_count": 17,
   "metadata": {
    "collapsed": true
   },
   "outputs": [],
   "source": [
    "def generator(all_X, all_y, n_classes, batch_size=BATCH_SIZE):\n",
    "    num_samples = len(all_X)\n",
    "\n",
    "    while True:\n",
    "\n",
    "        for offset in range(0, num_samples, batch_size):\n",
    "            \n",
    "            X = all_X[offset:offset+batch_size]\n",
    "            y = all_y[offset:offset+batch_size]\n",
    "\n",
    "            y = to_categorical(y, num_classes=n_classes)\n",
    "\n",
    "\n",
    "            yield shuffle(X, y)\n"
   ]
  },
  {
   "cell_type": "code",
   "execution_count": 18,
   "metadata": {},
   "outputs": [
    {
     "name": "stdout",
     "output_type": "stream",
     "text": [
      "TOTAL TAGS 4\n",
      "TOTAL WORDS 2851\n"
     ]
    }
   ],
   "source": [
    "n_tags = len(tag2int)\n",
    "\n",
    "X = pad_sequences(X, maxlen=MAX_SEQUENCE_LENGTH)\n",
    "y = pad_sequences(y, maxlen=MAX_SEQUENCE_LENGTH)\n",
    "\n",
    "# y = to_categorical(y, num_classes=len(tag2int) + 1)\n",
    "\n",
    "print('TOTAL TAGS', len(tag2int))\n",
    "print('TOTAL WORDS', len(word2int))\n"
   ]
  },
  {
   "cell_type": "code",
   "execution_count": 19,
   "metadata": {},
   "outputs": [
    {
     "name": "stdout",
     "output_type": "stream",
     "text": [
      "We have 598 TRAINING samples\n",
      "We have 67 VALIDATION samples\n",
      "We have 74 TEST samples\n"
     ]
    }
   ],
   "source": [
    "\n",
    "# shuffle the data\n",
    "X, y = shuffle(X, y)\n",
    "\n",
    "# split data into train and test\n",
    "X_train, X_test, y_train, y_test = train_test_split(X, y, test_size=TEST_SPLIT,random_state=42)\n",
    "\n",
    "# split training data into train and validation\n",
    "X_train, X_val, y_train, y_val = train_test_split(X_train, y_train, test_size=VALIDATION_SPLIT, random_state=1)\n",
    "\n",
    "n_train_samples = X_train.shape[0]\n",
    "n_val_samples = X_val.shape[0]\n",
    "n_test_samples = X_test.shape[0]\n",
    "y_test = to_categorical(y_test, num_classes=n_tags+1)\n",
    "\n",
    "print('We have %d TRAINING samples' % n_train_samples)\n",
    "print('We have %d VALIDATION samples' % n_val_samples)\n",
    "print('We have %d TEST samples' % n_test_samples)\n"
   ]
  },
  {
   "cell_type": "code",
   "execution_count": 20,
   "metadata": {
    "collapsed": true
   },
   "outputs": [],
   "source": [
    "train_generator = generator(all_X=X_train, all_y=y_train, n_classes=n_tags + 1)\n",
    "validation_generator = generator(all_X=X_val, all_y=y_val, n_classes=n_tags + 1)\n",
    "\n"
   ]
  },
  {
   "cell_type": "code",
   "execution_count": 21,
   "metadata": {},
   "outputs": [
    {
     "name": "stdout",
     "output_type": "stream",
     "text": [
      "Total 400000 word vectors.\n",
      "Embedding matrix shape (2852, 100)\n",
      "X_train shape (598, 100)\n"
     ]
    }
   ],
   "source": [
    "\n",
    "print('Total %s word vectors.' % len(embeddings_index))\n",
    "\n",
    "# + 1 to include the unkown word\n",
    "embedding_matrix = np.random.random((len(word2int) + 1, EMBEDDING_DIM))\n",
    "\n",
    "for word, i in word2int.items():\n",
    "    embedding_vector = embeddings_index.get(word)\n",
    "    if embedding_vector is not None:\n",
    "        # words not found in embeddings_index will remain unchanged and thus will be random.\n",
    "        embedding_matrix[i] = embedding_vector\n",
    "\n",
    "print('Embedding matrix shape', embedding_matrix.shape)\n",
    "print('X_train shape', X_train.shape)"
   ]
  },
  {
   "cell_type": "code",
   "execution_count": 31,
   "metadata": {
    "collapsed": true
   },
   "outputs": [],
   "source": [
    "model=0\n",
    "embedding_layer = Embedding(len(word2int) + 1,\n",
    "                            EMBEDDING_DIM,\n",
    "                            weights=[embedding_matrix],\n",
    "                            input_length=MAX_SEQUENCE_LENGTH,\n",
    "                            trainable=True)\n",
    "sequence_input = Input(shape=(MAX_SEQUENCE_LENGTH,), dtype='int32')\n",
    "embedded_sequences = embedding_layer(sequence_input)\n",
    "\n",
    "l_lstm = Bidirectional(LSTM(128, return_sequences=True))(embedded_sequences)\n",
    "preds = TimeDistributed(Dense(n_tags + 1, activation='softmax'))(l_lstm)\n",
    "model = Model(sequence_input, preds)\n"
   ]
  },
  {
   "cell_type": "code",
   "execution_count": 32,
   "metadata": {},
   "outputs": [
    {
     "name": "stdout",
     "output_type": "stream",
     "text": [
      "model fitting - Bidirectional LSTM\n",
      "_________________________________________________________________\n",
      "Layer (type)                 Output Shape              Param #   \n",
      "=================================================================\n",
      "input_2 (InputLayer)         (None, 100)               0         \n",
      "_________________________________________________________________\n",
      "embedding_2 (Embedding)      (None, 100, 100)          285200    \n",
      "_________________________________________________________________\n",
      "bidirectional_2 (Bidirection (None, 100, 256)          234496    \n",
      "_________________________________________________________________\n",
      "time_distributed_2 (TimeDist (None, 100, 5)            1285      \n",
      "=================================================================\n",
      "Total params: 520,981\n",
      "Trainable params: 520,981\n",
      "Non-trainable params: 0\n",
      "_________________________________________________________________\n"
     ]
    }
   ],
   "source": [
    "\n",
    "model.compile(loss='categorical_crossentropy',\n",
    "              optimizer='rmsprop',\n",
    "              metrics=['acc'])\n",
    "\n",
    "print(\"model fitting - Bidirectional LSTM\")\n",
    "model.summary()"
   ]
  },
  {
   "cell_type": "code",
   "execution_count": 33,
   "metadata": {},
   "outputs": [
    {
     "name": "stdout",
     "output_type": "stream",
     "text": [
      "Epoch 1/25\n",
      "74/74 [==============================] - 16s 222ms/step - loss: 0.3270 - acc: 0.8633 - val_loss: 0.2729 - val_acc: 0.8936\n",
      "Epoch 2/25\n",
      "74/74 [==============================] - 15s 204ms/step - loss: 0.2741 - acc: 0.8837 - val_loss: 0.2634 - val_acc: 0.8967\n",
      "Epoch 3/25\n",
      "74/74 [==============================] - 17s 224ms/step - loss: 0.2657 - acc: 0.8868 - val_loss: 0.2837 - val_acc: 0.8731\n",
      "Epoch 4/25\n",
      "74/74 [==============================] - 17s 236ms/step - loss: 0.2570 - acc: 0.8914 - val_loss: 0.2847 - val_acc: 0.8687\n",
      "Epoch 5/25\n",
      "74/74 [==============================] - 17s 229ms/step - loss: 0.2477 - acc: 0.8962 - val_loss: 0.2930 - val_acc: 0.8645\n",
      "Epoch 6/25\n",
      "74/74 [==============================] - 17s 223ms/step - loss: 0.2378 - acc: 0.9014 - val_loss: 0.2770 - val_acc: 0.8825\n",
      "Epoch 7/25\n",
      "74/74 [==============================] - 18s 239ms/step - loss: 0.2283 - acc: 0.9057 - val_loss: 0.2714 - val_acc: 0.8852\n",
      "Epoch 8/25\n",
      "74/74 [==============================] - 17s 226ms/step - loss: 0.2159 - acc: 0.9112 - val_loss: 0.3229 - val_acc: 0.8625\n",
      "Epoch 9/25\n",
      "74/74 [==============================] - 17s 233ms/step - loss: 0.2047 - acc: 0.9165 - val_loss: 0.2977 - val_acc: 0.8734\n",
      "Epoch 10/25\n",
      "74/74 [==============================] - 17s 230ms/step - loss: 0.1950 - acc: 0.9219 - val_loss: 0.2938 - val_acc: 0.8928\n",
      "Epoch 11/25\n",
      "74/74 [==============================] - 18s 243ms/step - loss: 0.1844 - acc: 0.9264 - val_loss: 0.3017 - val_acc: 0.8797\n",
      "Epoch 12/25\n",
      "74/74 [==============================] - 18s 245ms/step - loss: 0.1787 - acc: 0.9279 - val_loss: 0.3037 - val_acc: 0.8875\n",
      "Epoch 13/25\n",
      "74/74 [==============================] - 17s 225ms/step - loss: 0.1673 - acc: 0.9328 - val_loss: 0.3248 - val_acc: 0.8855\n",
      "Epoch 14/25\n",
      "74/74 [==============================] - 19s 259ms/step - loss: 0.1609 - acc: 0.9354 - val_loss: 0.3632 - val_acc: 0.8708\n",
      "Epoch 15/25\n",
      "74/74 [==============================] - 20s 272ms/step - loss: 0.1539 - acc: 0.9384 - val_loss: 0.3386 - val_acc: 0.8825\n",
      "Epoch 16/25\n",
      "74/74 [==============================] - 18s 238ms/step - loss: 0.1488 - acc: 0.9405 - val_loss: 0.3385 - val_acc: 0.8883\n",
      "Epoch 17/25\n",
      "74/74 [==============================] - 20s 270ms/step - loss: 0.1424 - acc: 0.9432 - val_loss: 0.3349 - val_acc: 0.8867\n",
      "Epoch 18/25\n",
      "74/74 [==============================] - 20s 264ms/step - loss: 0.1370 - acc: 0.9450 - val_loss: 0.3588 - val_acc: 0.8845\n",
      "Epoch 19/25\n",
      "74/74 [==============================] - 25s 335ms/step - loss: 0.1323 - acc: 0.9465 - val_loss: 0.3625 - val_acc: 0.8784\n",
      "Epoch 20/25\n",
      "74/74 [==============================] - 24s 318ms/step - loss: 0.1304 - acc: 0.9467 - val_loss: 0.3528 - val_acc: 0.8800\n",
      "Epoch 21/25\n",
      "74/74 [==============================] - 20s 273ms/step - loss: 0.1249 - acc: 0.9492 - val_loss: 0.3603 - val_acc: 0.8861\n",
      "Epoch 22/25\n",
      "74/74 [==============================] - 23s 315ms/step - loss: 0.1207 - acc: 0.9503 - val_loss: 0.3648 - val_acc: 0.8914\n",
      "Epoch 23/25\n",
      "74/74 [==============================] - 18s 250ms/step - loss: 0.1161 - acc: 0.9536 - val_loss: 0.3770 - val_acc: 0.8906\n",
      "Epoch 24/25\n",
      "74/74 [==============================] - 24s 327ms/step - loss: 0.1141 - acc: 0.9544 - val_loss: 0.3844 - val_acc: 0.8908\n",
      "Epoch 25/25\n",
      "74/74 [==============================] - 29s 386ms/step - loss: 0.1090 - acc: 0.9564 - val_loss: 0.4501 - val_acc: 0.8730\n"
     ]
    }
   ],
   "source": [
    "\n",
    "h=model.fit_generator(train_generator, \n",
    "                     steps_per_epoch=n_train_samples//BATCH_SIZE,\n",
    "                     validation_data=validation_generator,\n",
    "                     validation_steps=n_val_samples//BATCH_SIZE,\n",
    "                     epochs=25,\n",
    "                     verbose=1,\n",
    "                     workers=1)\n",
    "# fit_generator(generator, steps_per_epoch=None, epochs=1, verbose=1, callbacks=None, \n",
    "#               validation_data=None, validation_steps=None, validation_freq=1, class_weight=None, \n",
    "#               max_queue_size=10, workers=1, use_multiprocessing=False, shuffle=True, initial_epoch=0)\n"
   ]
  },
  {
   "cell_type": "code",
   "execution_count": 35,
   "metadata": {
    "collapsed": true
   },
   "outputs": [],
   "source": [
    "import matplotlib.pyplot as plt"
   ]
  },
  {
   "cell_type": "code",
   "execution_count": 36,
   "metadata": {},
   "outputs": [
    {
     "data": {
      "image/png": "[encoded data removed]",
      "text/plain": [
       "<matplotlib.figure.Figure at 0x1a33d34630>"
      ]
     },
     "metadata": {},
     "output_type": "display_data"
    }
   ],
   "source": [
    "plt.plot(h.history['acc'])\n",
    "plt.plot(h.history['val_acc'])\n",
    "plt.title('model accuracy')\n",
    "plt.ylabel('accuracy')\n",
    "plt.xlabel('epoch')\n",
    "plt.legend(['train', 'test'], loc='upper left')\n",
    "plt.show()"
   ]
  },
  {
   "cell_type": "code",
   "execution_count": 37,
   "metadata": {},
   "outputs": [
    {
     "data": {
      "image/png": "[encoded data removed]",
      "text/plain": [
       "<matplotlib.figure.Figure at 0x1a33d7d978>"
      ]
     },
     "metadata": {},
     "output_type": "display_data"
    }
   ],
   "source": [
    "plt.plot(h.history['loss'])\n",
    "plt.plot(h.history['val_loss'])\n",
    "plt.title('model accuracy')\n",
    "plt.ylabel('accuracy')\n",
    "plt.xlabel('epoch')\n",
    "plt.legend(['train', 'test'], loc='upper left')\n",
    "plt.show()"
   ]
  },
  {
   "cell_type": "code",
   "execution_count": 25,
   "metadata": {},
   "outputs": [
    {
     "name": "stdout",
     "output_type": "stream",
     "text": [
      "MODEL SAVED in Models/ as model.h5\n",
      "74/74 [==============================] - 0s 3ms/step\n",
      "TEST LOSS 0.415427 \n",
      "TEST ACCURACY: 0.892568\n"
     ]
    }
   ],
   "source": [
    "if not os.path.exists('Models/'):\n",
    "    print('MAKING DIRECTORY Models/ to save model file')\n",
    "    os.makedirs('Models/')\n",
    "\n",
    "train = True\n",
    "\n",
    "if train:\n",
    "    model.save('Models/model_0622_v4.h5')\n",
    "    print('MODEL SAVED in Models/ as model.h5')\n",
    "else:\n",
    "    from keras.models import load_model\n",
    "    model = load_model('Models/model_0622_v4.h5')\n",
    "\n",
    "# y_test = to_categorical(y_test, num_classes=n_tags+1)\n",
    "test_results = model.evaluate(X_test, y_test, verbose=1)\n",
    "print('TEST LOSS %f \\nTEST ACCURACY: %f' % (test_results[0], test_results[1]))\n"
   ]
  },
  {
   "cell_type": "code",
   "execution_count": 26,
   "metadata": {},
   "outputs": [
    {
     "name": "stdout",
     "output_type": "stream",
     "text": [
      "74/74 [==============================] - 1s 7ms/step\n"
     ]
    }
   ],
   "source": [
    "y_pred=model.predict(X_test, verbose=1)\n",
    "yp=[y.argmax(1) for y in y_pred]\n",
    "yt=[t.argmax(1) for t in y_test]\n",
    "ytt=[m for n in [[int2tag[j] for j in k if j !=0] for k in yt] for m in n]\n",
    "ypp=[m for n in [[int2tag[j] for j in k if j !=0] for k in yp] for m in n]"
   ]
  },
  {
   "cell_type": "code",
   "execution_count": 27,
   "metadata": {
    "collapsed": true
   },
   "outputs": [],
   "source": [
    "Xtt=[m for n in [[int2word[j] for j in k if j not in [0]] for k in X_test] for m in n]"
   ]
  },
  {
   "cell_type": "code",
   "execution_count": 28,
   "metadata": {
    "collapsed": true
   },
   "outputs": [],
   "source": [
    "pred_df=pd.DataFrame(list(zip(Xtt, ytt, ypp)))\n",
    "pred_df.columns=['word', 'true', 'pred']\n",
    "pred_df_sub=pred_df[pred_df['true']!=pred_df['pred']]"
   ]
  },
  {
   "cell_type": "code",
   "execution_count": 30,
   "metadata": {},
   "outputs": [
    {
     "data": {
      "text/plain": [
       "array([[120,  15,  26, 175],\n",
       "       [ 15, 125,  26,  61],\n",
       "       [ 34,  44,  59, 162],\n",
       "       [ 69,  94,  74, 490]])"
      ]
     },
     "execution_count": 30,
     "metadata": {},
     "output_type": "execute_result"
    }
   ],
   "source": [
    "confusion_matrix(pred_df['true'], pred_df['pred'], labels=['e', 'c', 'cc', 'n'])"
   ]
  },
  {
   "cell_type": "code",
   "execution_count": 38,
   "metadata": {},
   "outputs": [
    {
     "data": {
      "text/plain": [
       "of                52\n",
       "the               49\n",
       "in                24\n",
       "to                21\n",
       "and               19\n",
       "is                15\n",
       "a                 13\n",
       "with              11\n",
       "alzheimer          8\n",
       "are                8\n",
       "not                8\n",
       "disease            7\n",
       "for                6\n",
       "vascular           5\n",
       "has                5\n",
       "as                 5\n",
       "which              5\n",
       "cognitive          5\n",
       "insulin            5\n",
       "amyloid            5\n",
       "secretion          4\n",
       "may                4\n",
       "age                4\n",
       "been               4\n",
       "ad                 4\n",
       "be                 4\n",
       "characteristic     3\n",
       "it                 3\n",
       "neuronal           3\n",
       "type               3\n",
       "                  ..\n",
       "conditional        1\n",
       "metabolites        1\n",
       "clinical           1\n",
       "increases          1\n",
       "acid               1\n",
       "diabetes,          1\n",
       "dependent)         1\n",
       "methyl             1\n",
       "favor              1\n",
       "deficits           1\n",
       "2216),             1\n",
       "cardioembolic      1\n",
       "do                 1\n",
       "hallmark           1\n",
       "improve            1\n",
       "demonstrate        1\n",
       "cortical           1\n",
       "cognition          1\n",
       "healthy,           1\n",
       "alterations        1\n",
       "robust             1\n",
       "did                1\n",
       "12                 1\n",
       "release            1\n",
       "produce            1\n",
       "early              1\n",
       "obesity            1\n",
       "laboratories       1\n",
       "chronic            1\n",
       "nitrooxy           1\n",
       "Name: word, Length: 418, dtype: int64"
      ]
     },
     "execution_count": 38,
     "metadata": {},
     "output_type": "execute_result"
    }
   ],
   "source": [
    "pred_df_sub.word.value_counts()"
   ]
  },
  {
   "cell_type": "code",
   "execution_count": 33,
   "metadata": {
    "collapsed": true
   },
   "outputs": [],
   "source": [
    "xtest=[[int2word[i] for i in j if i!=0] for j in X_test]"
   ]
  },
  {
   "cell_type": "code",
   "execution_count": 34,
   "metadata": {},
   "outputs": [
    {
     "data": {
      "text/plain": [
       "'confirmation that presenilin is the catalytic site of c secretase has provided a linchpin: all dominant mutations causing early onset ad occur either in the substrate (amyloid precursor protein, app) or the protease (presenilin) of the reaction that generates abeta'"
      ]
     },
     "execution_count": 34,
     "metadata": {},
     "output_type": "execute_result"
    }
   ],
   "source": [
    "' '.join(xtest[0])"
   ]
  },
  {
   "cell_type": "code",
   "execution_count": 35,
   "metadata": {},
   "outputs": [
    {
     "data": {
      "text/plain": [
       "['n',\n",
       " 'n',\n",
       " 'n',\n",
       " 'n',\n",
       " 'n',\n",
       " 'n',\n",
       " 'n',\n",
       " 'n',\n",
       " 'n',\n",
       " 'n',\n",
       " 'n',\n",
       " 'n',\n",
       " 'n',\n",
       " 'n',\n",
       " 'cc',\n",
       " 'cc',\n",
       " 'cc',\n",
       " 'cc',\n",
       " 'e',\n",
       " 'e',\n",
       " 'e',\n",
       " 'n',\n",
       " 'n',\n",
       " 'n',\n",
       " 'n',\n",
       " 'c',\n",
       " 'c',\n",
       " 'c',\n",
       " 'c',\n",
       " 'c',\n",
       " 'n',\n",
       " 'n',\n",
       " 'n',\n",
       " 'n',\n",
       " 'n',\n",
       " 'n',\n",
       " 'n',\n",
       " 'n',\n",
       " 'n',\n",
       " 'n']"
      ]
     },
     "execution_count": 35,
     "metadata": {},
     "output_type": "execute_result"
    }
   ],
   "source": [
    "[int2tag[j] for j in [np.where(i==1)[0][0] for i in y_test[0]] if j !=0]"
   ]
  },
  {
   "cell_type": "code",
   "execution_count": 169,
   "metadata": {},
   "outputs": [
    {
     "data": {
      "text/plain": [
       "['which means the expected scanty rainfall this year , when the state is facing is second consecutive year of drought , will be enough for their needs',\n",
       " '\"bangalore receives around 900,1000mm of rainfall except for these very drought years,\" said mr shivakumar, whose work involves the field of renewable energy and rainwater harvesting',\n",
       " 'a tidal surge was expected to flood low,lying areas near mackay as the storm whipped up waves and currents and lifted sea levels',\n",
       " \"the tamil nadu government today revived a traditional water resource management system involving public in the state's worst drought in more than a century\",\n",
       " 'he believes that the project will ensure adequate water supply even during drought unlike the crop loss he suffered two years ago due to drought',\n",
       " 'seventeen farmers had killed themselves; and as many as 100 deaths had been linked to the drought',\n",
       " '2017,03,14 andaman and nicobar islands,earthquake andaman and nicobar islands,earthquake andamans,earthquake nicobar islands earthquake nicobar islands,press trust of india,earthquake andaman and nicobar islands,andaman and nicobar islands,earthquake andamans a 5',\n",
       " '9,magnitude earthquake hit andaman and nicobar islands today\\n\\nan earthquake measuring 5',\n",
       " 'india has a dedicated tsunami warning centre that sends alerts to states and neighbouring littoral countries in case of an earthquake',\n",
       " 'another earthquake measuring 3']"
      ]
     },
     "execution_count": 169,
     "metadata": {},
     "output_type": "execute_result"
    }
   ],
   "source": [
    "ndtv[:10]"
   ]
  },
  {
   "cell_type": "code",
   "execution_count": 171,
   "metadata": {
    "collapsed": true
   },
   "outputs": [],
   "source": [
    "ndtv_numberised=[]\n",
    "\n",
    "for sentence in ndtv:\n",
    "    tempX = []\n",
    "    for word in sentence.split():\n",
    "        tempX.append(word2int[word])\n",
    "    ndtv_numberised.append(tempX)"
   ]
  },
  {
   "cell_type": "code",
   "execution_count": 63,
   "metadata": {
    "collapsed": true
   },
   "outputs": [],
   "source": []
  },
  {
   "cell_type": "code",
   "execution_count": 172,
   "metadata": {
    "collapsed": true
   },
   "outputs": [],
   "source": [
    "news_test = pad_sequences(ndtv_numberised, maxlen=MAX_SEQUENCE_LENGTH)"
   ]
  },
  {
   "cell_type": "code",
   "execution_count": 212,
   "metadata": {},
   "outputs": [
    {
     "name": "stdout",
     "output_type": "stream",
     "text": [
      "3268/3268 [==============================] - 8s 2ms/step\n"
     ]
    }
   ],
   "source": [
    "result_2=model.predict(news_test, verbose=1)"
   ]
  },
  {
   "cell_type": "code",
   "execution_count": 192,
   "metadata": {},
   "outputs": [
    {
     "data": {
      "text/plain": [
       "(3268, 100, 5)"
      ]
     },
     "execution_count": 192,
     "metadata": {},
     "output_type": "execute_result"
    }
   ],
   "source": [
    "result_1.shape"
   ]
  },
  {
   "cell_type": "code",
   "execution_count": 194,
   "metadata": {},
   "outputs": [
    {
     "data": {
      "text/plain": [
       "array([  9.99999881e-01,   2.61830682e-08,   2.28022401e-08,\n",
       "         1.39889877e-08,   7.14229103e-08], dtype=float32)"
      ]
     },
     "execution_count": 194,
     "metadata": {},
     "output_type": "execute_result"
    }
   ],
   "source": [
    "result_1[0][0]"
   ]
  },
  {
   "cell_type": "code",
   "execution_count": 211,
   "metadata": {},
   "outputs": [
    {
     "data": {
      "text/plain": [
       "array([0, 0, 0, 0, 0, 0, 0, 0, 0, 0, 0, 0, 0, 0, 0, 0, 0, 0, 0, 0, 0, 0, 0,\n",
       "       0, 0, 0, 0, 0, 0, 0, 0, 0, 0, 0, 0, 0, 0, 0, 0, 0, 0, 0, 0, 0, 0, 0,\n",
       "       0, 0, 0, 0, 0, 0, 0, 0, 0, 0, 0, 0, 0, 0, 0, 0, 0, 0, 0, 0, 0, 0, 0,\n",
       "       0, 0, 0, 0, 2, 2, 2, 2, 2, 2, 2, 2, 2, 1, 1, 1, 1, 1, 2, 2, 1, 1, 1,\n",
       "       1, 1, 2, 2, 2, 2, 2, 2])"
      ]
     },
     "execution_count": 211,
     "metadata": {},
     "output_type": "execute_result"
    }
   ],
   "source": [
    "result[0].argmax(1)"
   ]
  },
  {
   "cell_type": "code",
   "execution_count": 215,
   "metadata": {},
   "outputs": [
    {
     "data": {
      "text/plain": [
       "array([0, 0, 0, 0, 0, 0, 0, 0, 0, 0, 0, 0, 0, 0, 0, 0, 0, 0, 0, 0, 0, 0, 0,\n",
       "       0, 0, 0, 0, 0, 0, 0, 0, 0, 0, 0, 0, 0, 0, 0, 0, 0, 0, 0, 0, 0, 0, 0,\n",
       "       0, 0, 0, 0, 0, 0, 0, 0, 0, 0, 0, 0, 0, 0, 0, 0, 0, 0, 0, 0, 0, 0, 0,\n",
       "       0, 0, 0, 0, 2, 3, 3, 3, 3, 3, 3, 3, 2, 3, 1, 1, 4, 4, 3, 3, 1, 1, 1,\n",
       "       1, 1, 3, 3, 2, 2, 1, 1])"
      ]
     },
     "execution_count": 215,
     "metadata": {},
     "output_type": "execute_result"
    }
   ],
   "source": [
    "result_2[0].argmax(1)"
   ]
  },
  {
   "cell_type": "code",
   "execution_count": 216,
   "metadata": {
    "collapsed": true
   },
   "outputs": [],
   "source": [
    "ndtv_results=[]\n",
    "for i in result_2:\n",
    "    ndtv_results.append(i.argmax(1))"
   ]
  },
  {
   "cell_type": "code",
   "execution_count": 218,
   "metadata": {},
   "outputs": [
    {
     "data": {
      "text/plain": [
       "array([0, 0, 0, 0, 0, 0, 0, 0, 0, 0, 0, 0, 0, 0, 0, 0, 0, 0, 0, 0, 0, 0, 0,\n",
       "       0, 0, 0, 0, 0, 0, 0, 0, 0, 0, 0, 0, 0, 0, 0, 0, 0, 0, 0, 0, 0, 0, 0,\n",
       "       0, 0, 0, 0, 0, 0, 0, 0, 0, 0, 0, 0, 0, 0, 0, 0, 0, 0, 0, 0, 0, 0, 0,\n",
       "       0, 0, 0, 0, 0, 0, 2, 2, 2, 2, 2, 2, 2, 2, 2, 2, 2, 2, 2, 1, 2, 2, 2,\n",
       "       2, 2, 2, 2, 2, 3, 3, 1])"
      ]
     },
     "execution_count": 218,
     "metadata": {},
     "output_type": "execute_result"
    }
   ],
   "source": [
    "ndtv_results[70]"
   ]
  },
  {
   "cell_type": "code",
   "execution_count": 226,
   "metadata": {},
   "outputs": [
    {
     "data": {
      "text/plain": [
       "'which means the expected scanty rainfall this year , when the state is facing is second consecutive year of drought , will be enough for their needs'"
      ]
     },
     "execution_count": 226,
     "metadata": {},
     "output_type": "execute_result"
    }
   ],
   "source": [
    "ndtv[0]"
   ]
  },
  {
   "cell_type": "code",
   "execution_count": 231,
   "metadata": {
    "collapsed": true
   },
   "outputs": [],
   "source": [
    "ndtv_res=[[int2tag[i] for i in n if i!=0] for n in ndtv_results]"
   ]
  },
  {
   "cell_type": "code",
   "execution_count": 234,
   "metadata": {},
   "outputs": [
    {
     "data": {
      "text/plain": [
       "3268"
      ]
     },
     "execution_count": 234,
     "metadata": {},
     "output_type": "execute_result"
    }
   ],
   "source": [
    "len(ndtv_res)"
   ]
  },
  {
   "cell_type": "code",
   "execution_count": 237,
   "metadata": {
    "collapsed": true
   },
   "outputs": [],
   "source": [
    "results=[]\n",
    "for i in range(len(ndtv_res)):\n",
    "    results.append(' '.join([m+str('/')+str(n) for m,n in zip(ndtv[i].split(),ndtv_res[i])]))"
   ]
  },
  {
   "cell_type": "code",
   "execution_count": 260,
   "metadata": {},
   "outputs": [
    {
     "data": {
      "text/plain": [
       "['which/n',\n",
       " 'means/cc',\n",
       " 'the/cc',\n",
       " 'expected/cc',\n",
       " 'scanty/cc',\n",
       " 'rainfall/cc',\n",
       " 'this/cc',\n",
       " 'year/cc',\n",
       " ',/n',\n",
       " 'when/cc',\n",
       " 'the/c',\n",
       " 'state/c',\n",
       " 'is/e',\n",
       " 'facing/e',\n",
       " 'is/cc',\n",
       " 'second/cc',\n",
       " 'consecutive/c',\n",
       " 'year/c',\n",
       " 'of/c',\n",
       " 'drought/c',\n",
       " ',/c',\n",
       " 'will/cc',\n",
       " 'be/cc',\n",
       " 'enough/n',\n",
       " 'for/n',\n",
       " 'their/c',\n",
       " 'needs/c']"
      ]
     },
     "execution_count": 260,
     "metadata": {},
     "output_type": "execute_result"
    }
   ],
   "source": [
    "results[0].split(' ')"
   ]
  },
  {
   "cell_type": "code",
   "execution_count": 239,
   "metadata": {},
   "outputs": [
    {
     "data": {
      "text/plain": [
       "5127089"
      ]
     },
     "execution_count": 239,
     "metadata": {},
     "output_type": "execute_result"
    }
   ],
   "source": [
    "len(toi)"
   ]
  },
  {
   "cell_type": "code",
   "execution_count": 240,
   "metadata": {},
   "outputs": [
    {
     "data": {
      "text/plain": [
       "'m'"
      ]
     },
     "execution_count": 240,
     "metadata": {},
     "output_type": "execute_result"
    }
   ],
   "source": [
    "toi[0]"
   ]
  },
  {
   "cell_type": "code",
   "execution_count": 253,
   "metadata": {
    "collapsed": true
   },
   "outputs": [],
   "source": [
    "keywords=['flood', 'drought', 'flu', 'earthquake', \n",
    "          'tornado', 'heatwave', 'malaria', 'dengue', \n",
    "          'cholera', 'heat wave', 'water shortage']"
   ]
  },
  {
   "cell_type": "code",
   "execution_count": 254,
   "metadata": {
    "collapsed": true
   },
   "outputs": [],
   "source": [
    "keyword_dict=dict.fromkeys(keywords)"
   ]
  },
  {
   "cell_type": "code",
   "execution_count": 261,
   "metadata": {
    "collapsed": true
   },
   "outputs": [],
   "source": [
    "for i in keyword_dict:\n",
    "    keyword_dict[i]=[]"
   ]
  },
  {
   "cell_type": "code",
   "execution_count": 263,
   "metadata": {
    "collapsed": true
   },
   "outputs": [],
   "source": [
    "for i in results:\n",
    "    c=[]\n",
    "    cc=[]\n",
    "    e=[]\n",
    "    for j in i.split():\n",
    "        wrd=j.split('/')\n",
    "        if wrd[0] in keywords:\n",
    "            if wrd[1]=='c'\n",
    "            c.append\n",
    "            keyword_dict[j.split('/')[0]].append(i)"
   ]
  },
  {
   "cell_type": "code",
   "execution_count": 303,
   "metadata": {},
   "outputs": [
    {
     "data": {
      "text/plain": [
       "'the/cc sudden/cc rise/e in/cc day/e temperatures/cc and/cc the/cc prevailing/cc heatwave/c conditions/c in/c the/c state/c figured/c in/c the/c council/c on/cc thursday/cc'"
      ]
     },
     "execution_count": 303,
     "metadata": {},
     "output_type": "execute_result"
    }
   ],
   "source": [
    "keyword_dict['heatwave'][0]"
   ]
  },
  {
   "cell_type": "code",
   "execution_count": 306,
   "metadata": {},
   "outputs": [
    {
     "name": "stdout",
     "output_type": "stream",
     "text": [
      "which/n means/cc the/cc expected/cc scanty/cc rainfall/cc this/cc year/cc ,/n when/cc the/c state/c is/e facing/e is/cc second/cc consecutive/c year/c of/c drought/c ,/c will/cc be/cc enough/n for/n their/c needs/c\n"
     ]
    }
   ],
   "source": [
    "for i in results:\n",
    "    print(i)\n",
    "    break"
   ]
  },
  {
   "cell_type": "code",
   "execution_count": 363,
   "metadata": {
    "collapsed": true
   },
   "outputs": [],
   "source": [
    "ndtv_sent=[]\n",
    "for ind, i in enumerate(ndtv):\n",
    "    c=pd.Series(ndtv[ind].split())[[i for i, x in enumerate(ndtv_res[ind]) if x == \"c\"]].values\n",
    "    cc=pd.Series(ndtv[ind].split())[[i for i, x in enumerate(ndtv_res[ind]) if x == \"cc\"]].values\n",
    "    e=pd.Series(ndtv[ind].split())[[i for i, x in enumerate(ndtv_res[ind]) if x == \"e\"]].values\n",
    "    ndtv_sent.append({'kws':set(ndtv[ind].split()).intersection(keywords), 'sent':i, 'c':c, 'cc':cc, 'e':e})\n",
    "        "
   ]
  },
  {
   "cell_type": "code",
   "execution_count": 369,
   "metadata": {
    "collapsed": true
   },
   "outputs": [],
   "source": [
    "with open(r'tagged_data.pickle', 'wb') as f:\n",
    "    f.write(pickle.dumps(ndtv_sent))"
   ]
  },
  {
   "cell_type": "code",
   "execution_count": 368,
   "metadata": {},
   "outputs": [
    {
     "data": {
      "text/html": [
       "<div>\n",
       "<style>\n",
       "    .dataframe thead tr:only-child th {\n",
       "        text-align: right;\n",
       "    }\n",
       "\n",
       "    .dataframe thead th {\n",
       "        text-align: left;\n",
       "    }\n",
       "\n",
       "    .dataframe tbody tr th {\n",
       "        vertical-align: top;\n",
       "    }\n",
       "</style>\n",
       "<table border=\"1\" class=\"dataframe\">\n",
       "  <thead>\n",
       "    <tr style=\"text-align: right;\">\n",
       "      <th></th>\n",
       "      <th>c</th>\n",
       "      <th>cc</th>\n",
       "      <th>e</th>\n",
       "      <th>kws</th>\n",
       "      <th>sent</th>\n",
       "    </tr>\n",
       "  </thead>\n",
       "  <tbody>\n",
       "    <tr>\n",
       "      <th>0</th>\n",
       "      <td>[the, state, consecutive, year, of, drought, ,...</td>\n",
       "      <td>[means, the, expected, scanty, rainfall, this,...</td>\n",
       "      <td>[is, facing]</td>\n",
       "      <td>{drought}</td>\n",
       "      <td>which means the expected scanty rainfall this ...</td>\n",
       "    </tr>\n",
       "    <tr>\n",
       "      <th>1</th>\n",
       "      <td>[900,1000mm, of, energy, harvesting]</td>\n",
       "      <td>[except, for, very, work, involves, the, field...</td>\n",
       "      <td>[rainfall, drought, mr]</td>\n",
       "      <td>{drought}</td>\n",
       "      <td>\"bangalore receives around 900,1000mm of rainf...</td>\n",
       "    </tr>\n",
       "    <tr>\n",
       "      <th>2</th>\n",
       "      <td>[flood, areas, near, mackay, as, the, storm, w...</td>\n",
       "      <td>[was, expected, to, up, waves, and, currents, ...</td>\n",
       "      <td>[tidal, surge]</td>\n",
       "      <td>{flood}</td>\n",
       "      <td>a tidal surge was expected to flood low,lying ...</td>\n",
       "    </tr>\n",
       "    <tr>\n",
       "      <th>3</th>\n",
       "      <td>[the, tamil, nadu, traditional, water, resourc...</td>\n",
       "      <td>[revived, a, involving]</td>\n",
       "      <td>[government, worst]</td>\n",
       "      <td>{drought}</td>\n",
       "      <td>the tamil nadu government today revived a trad...</td>\n",
       "    </tr>\n",
       "    <tr>\n",
       "      <th>4</th>\n",
       "      <td>[the, project, ensure, adequate, water, he, ye...</td>\n",
       "      <td>[even, during, due, to]</td>\n",
       "      <td>[supply, drought, unlike, crop, loss, suffered]</td>\n",
       "      <td>{drought}</td>\n",
       "      <td>he believes that the project will ensure adequ...</td>\n",
       "    </tr>\n",
       "    <tr>\n",
       "      <th>5</th>\n",
       "      <td>[]</td>\n",
       "      <td>[been, linked, to, the, drought]</td>\n",
       "      <td>[farmers]</td>\n",
       "      <td>{drought}</td>\n",
       "      <td>seventeen farmers had killed themselves; and a...</td>\n",
       "    </tr>\n",
       "    <tr>\n",
       "      <th>6</th>\n",
       "      <td>[2017,03,14, andaman, and, nicobar, andaman, a...</td>\n",
       "      <td>[]</td>\n",
       "      <td>[nicobar, islands,andaman, and, nicobar, islan...</td>\n",
       "      <td>{earthquake}</td>\n",
       "      <td>2017,03,14 andaman and nicobar islands,earthqu...</td>\n",
       "    </tr>\n",
       "    <tr>\n",
       "      <th>7</th>\n",
       "      <td>[9,magnitude, earthquake, hit, andaman, and, n...</td>\n",
       "      <td>[]</td>\n",
       "      <td>[]</td>\n",
       "      <td>{earthquake}</td>\n",
       "      <td>9,magnitude earthquake hit andaman and nicobar...</td>\n",
       "    </tr>\n",
       "    <tr>\n",
       "      <th>8</th>\n",
       "      <td>[tsunami, warning, earthquake]</td>\n",
       "      <td>[sends]</td>\n",
       "      <td>[littoral]</td>\n",
       "      <td>{earthquake}</td>\n",
       "      <td>india has a dedicated tsunami warning centre t...</td>\n",
       "    </tr>\n",
       "    <tr>\n",
       "      <th>9</th>\n",
       "      <td>[earthquake, measuring, 3]</td>\n",
       "      <td>[]</td>\n",
       "      <td>[]</td>\n",
       "      <td>{earthquake}</td>\n",
       "      <td>another earthquake measuring 3</td>\n",
       "    </tr>\n",
       "    <tr>\n",
       "      <th>10</th>\n",
       "      <td>[9,magnitude, earthquake, strikes, andaman, and]</td>\n",
       "      <td>[]</td>\n",
       "      <td>[nicobar, islands]</td>\n",
       "      <td>{earthquake}</td>\n",
       "      <td>9,magnitude earthquake strikes andaman and nic...</td>\n",
       "    </tr>\n",
       "    <tr>\n",
       "      <th>11</th>\n",
       "      <td>[coastal, flood, warnings, storm, surge, high,...</td>\n",
       "      <td>[were, also, in, effect, for, is, expected, du...</td>\n",
       "      <td>[of, the, region]</td>\n",
       "      <td>{flood}</td>\n",
       "      <td>coastal flood warnings were also in effect for...</td>\n",
       "    </tr>\n",
       "    <tr>\n",
       "      <th>12</th>\n",
       "      <td>[from, the, of, irrigation, and, flood, contro...</td>\n",
       "      <td>[same, constituency, in, 2007, and, was, appoi...</td>\n",
       "      <td>[]</td>\n",
       "      <td>{flood}</td>\n",
       "      <td>he was re,elected from the same constituency i...</td>\n",
       "    </tr>\n",
       "    <tr>\n",
       "      <th>13</th>\n",
       "      <td>[shook, and, windows, smashed, in, the, blast,...</td>\n",
       "      <td>[]</td>\n",
       "      <td>[late, earthquake, ,,, bricks, debris, strewn,...</td>\n",
       "      <td>{earthquake}</td>\n",
       "      <td>houses shook and windows were smashed late sat...</td>\n",
       "    </tr>\n",
       "    <tr>\n",
       "      <th>14</th>\n",
       "      <td>[trachoma,, malaria, and, dengue]</td>\n",
       "      <td>[are, expected, to, become]</td>\n",
       "      <td>[]</td>\n",
       "      <td>{malaria, dengue}</td>\n",
       "      <td>diseases such as cholera, blinding trachoma, m...</td>\n",
       "    </tr>\n",
       "    <tr>\n",
       "      <th>15</th>\n",
       "      <td>[mr, khurshid, of, health, at, metro, stations...</td>\n",
       "      <td>[also, announced, promises]</td>\n",
       "      <td>[task, vector,borne, epidemics, like, dengue, ...</td>\n",
       "      <td>{dengue}</td>\n",
       "      <td>mr khurshid also announced promises of task fo...</td>\n",
       "    </tr>\n",
       "    <tr>\n",
       "      <th>16</th>\n",
       "      <td>[drought, and, suffering, from, scarcity, of, ...</td>\n",
       "      <td>[hit, by]</td>\n",
       "      <td>[karnataka]</td>\n",
       "      <td>{drought}</td>\n",
       "      <td>karnataka has been hit by drought and sufferin...</td>\n",
       "    </tr>\n",
       "    <tr>\n",
       "      <th>17</th>\n",
       "      <td>[of, videos, of, sangeet, dance, performances,...</td>\n",
       "      <td>[youtube]</td>\n",
       "      <td>[platforms, like]</td>\n",
       "      <td>{flood}</td>\n",
       "      <td>there are plenty of videos of sangeet dance pe...</td>\n",
       "    </tr>\n",
       "    <tr>\n",
       "      <th>18</th>\n",
       "      <td>[the, drought, plaguing, the, horn, of, africa]</td>\n",
       "      <td>[struggling, already, with, the, impact, of, t...</td>\n",
       "      <td>[]</td>\n",
       "      <td>{drought}</td>\n",
       "      <td>\"\"poor people in developing countries are stru...</td>\n",
       "    </tr>\n",
       "    <tr>\n",
       "      <th>19</th>\n",
       "      <td>[tests, for, strep, throat]</td>\n",
       "      <td>[]</td>\n",
       "      <td>[and, the, flu, came]</td>\n",
       "      <td>{flu}</td>\n",
       "      <td>julie breen, 33, took her husband to the emerg...</td>\n",
       "    </tr>\n",
       "    <tr>\n",
       "      <th>20</th>\n",
       "      <td>[and, policies\", or, free, gas, connections, f...</td>\n",
       "      <td>[the, in, is, even]</td>\n",
       "      <td>[poor, ,, in, ballia, in, eastern, ,, where, p...</td>\n",
       "      <td>{drought}</td>\n",
       "      <td>for example, one of the most successful and \"s...</td>\n",
       "    </tr>\n",
       "    <tr>\n",
       "      <th>21</th>\n",
       "      <td>[drought, and, food, shortages, since, with, t...</td>\n",
       "      <td>[suffered, severe]</td>\n",
       "      <td>[indian, ocean]</td>\n",
       "      <td>{drought}</td>\n",
       "      <td>the indian ocean island has suffered severe dr...</td>\n",
       "    </tr>\n",
       "    <tr>\n",
       "      <th>22</th>\n",
       "      <td>[court,drought,drought, water, shortages, acro...</td>\n",
       "      <td>[were, hit, by]</td>\n",
       "      <td>[2017,03,23, drought, india,ias, abhiyan,droug...</td>\n",
       "      <td>{drought}</td>\n",
       "      <td>2017,03,23 drought in india,ias officers,supre...</td>\n",
       "    </tr>\n",
       "    <tr>\n",
       "      <th>23</th>\n",
       "      <td>[loan, waivers, and, compensation, year]</td>\n",
       "      <td>[summoned, top, bureaucrats, from, for, hit, by]</td>\n",
       "      <td>[crop, losses, to, millions, of, people]</td>\n",
       "      <td>{drought}</td>\n",
       "      <td>© thomson reuters 2017\\n\\nthe supreme court ha...</td>\n",
       "    </tr>\n",
       "    <tr>\n",
       "      <th>24</th>\n",
       "      <td>[drought, water, shortages, and, excessive, de...</td>\n",
       "      <td>[country, in]</td>\n",
       "      <td>[caused, crop, flee, villages, search, food,]</td>\n",
       "      <td>{drought}</td>\n",
       "      <td>\"last year's drought caused crop failures, wat...</td>\n",
       "    </tr>\n",
       "    <tr>\n",
       "      <th>25</th>\n",
       "      <td>[asif, the, of]</td>\n",
       "      <td>[discuss, the, design, india]</td>\n",
       "      <td>[aspects, pakal, dul,, lower, kalnai, and, miy...</td>\n",
       "      <td>{flood}</td>\n",
       "      <td>asif said the two,day meeting will discuss the...</td>\n",
       "    </tr>\n",
       "    <tr>\n",
       "      <th>26</th>\n",
       "      <td>[of]</td>\n",
       "      <td>[introduced, by, nepalese, un, peacekeepers, s...</td>\n",
       "      <td>[an, outbreak, cholera, in, 2010]</td>\n",
       "      <td>{cholera}</td>\n",
       "      <td>an outbreak of cholera in 2010 was introduced ...</td>\n",
       "    </tr>\n",
       "    <tr>\n",
       "      <th>27</th>\n",
       "      <td>[20,000, nurses, illegal, under, esma]</td>\n",
       "      <td>[strike, by]</td>\n",
       "      <td>[dengue, and, chikungunya, ravaging]</td>\n",
       "      <td>{dengue}</td>\n",
       "      <td>last year with dengue and chikungunya ravaging...</td>\n",
       "    </tr>\n",
       "    <tr>\n",
       "      <th>28</th>\n",
       "      <td>[water, shortages, and, drought, as, the, hot,...</td>\n",
       "      <td>[the, march, 15, incident, could, cause]</td>\n",
       "      <td>[local]</td>\n",
       "      <td>{drought}</td>\n",
       "      <td>local police also said the march 15 incident c...</td>\n",
       "    </tr>\n",
       "    <tr>\n",
       "      <th>29</th>\n",
       "      <td>[10, of, drought, season]</td>\n",
       "      <td>[normally, holds, especially, during, the]</td>\n",
       "      <td>[metres, water,]</td>\n",
       "      <td>{drought}</td>\n",
       "      <td>it normally holds up to 10 million cubic metre...</td>\n",
       "    </tr>\n",
       "    <tr>\n",
       "      <th>...</th>\n",
       "      <td>...</td>\n",
       "      <td>...</td>\n",
       "      <td>...</td>\n",
       "      <td>...</td>\n",
       "      <td>...</td>\n",
       "    </tr>\n",
       "    <tr>\n",
       "      <th>3238</th>\n",
       "      <td>[earthquake, guinea]</td>\n",
       "      <td>[second, strikes, papua, new]</td>\n",
       "      <td>[]</td>\n",
       "      <td>{earthquake}</td>\n",
       "      <td>at least 18 killed as second earthquake strike...</td>\n",
       "    </tr>\n",
       "    <tr>\n",
       "      <th>3239</th>\n",
       "      <td>[2009, pandemic, flu, season, showed]</td>\n",
       "      <td>[from, it, was, a, risk, factor]</td>\n",
       "      <td>[]</td>\n",
       "      <td>{flu}</td>\n",
       "      <td>the data was collected from studies undertaken...</td>\n",
       "    </tr>\n",
       "    <tr>\n",
       "      <th>3240</th>\n",
       "      <td>[and, sandbags, warned, residents]</td>\n",
       "      <td>[destroyed, by, the, powerful, friday, that, t...</td>\n",
       "      <td>[with, and, officials, to, flood, coasts, from...</td>\n",
       "      <td>{flood}</td>\n",
       "      <td>2018,03,02 us storm,us floods,usa reuters,us f...</td>\n",
       "    </tr>\n",
       "    <tr>\n",
       "      <th>3241</th>\n",
       "      <td>[coastal, flood, watches, and, warnings, coast...</td>\n",
       "      <td>[in, place, from, southern, maine, that, a, sn...</td>\n",
       "      <td>[]</td>\n",
       "      <td>{flood}</td>\n",
       "      <td>\"the national weather service had coastal floo...</td>\n",
       "    </tr>\n",
       "    <tr>\n",
       "      <th>3242</th>\n",
       "      <td>[sandbags, and, warnings, as, northeast, braces]</td>\n",
       "      <td>[]</td>\n",
       "      <td>[flood]</td>\n",
       "      <td>{flood}</td>\n",
       "      <td>sandbags and warnings as northeast us braces f...</td>\n",
       "    </tr>\n",
       "    <tr>\n",
       "      <th>3243</th>\n",
       "      <td>[2018,03,03, northeast, us, storm,us, floods,u...</td>\n",
       "      <td>[businesses, were, surrounded, with, the]</td>\n",
       "      <td>[storm, cars, sandbags, and, waves, pounded, h...</td>\n",
       "      <td>{flood}</td>\n",
       "      <td>2018,03,03 northeast us storm,us floods,us sto...</td>\n",
       "    </tr>\n",
       "    <tr>\n",
       "      <th>3244</th>\n",
       "      <td>[the, first, flood]</td>\n",
       "      <td>[occurred, 11]</td>\n",
       "      <td>[surge, extreme]</td>\n",
       "      <td>{flood}</td>\n",
       "      <td>the first flood surge came at an extreme high ...</td>\n",
       "    </tr>\n",
       "    <tr>\n",
       "      <th>3245</th>\n",
       "      <td>[of, higher, flood, levels, at, the, high, due...</td>\n",
       "      <td>[strong, winds, could, high, and, posed, a, ri...</td>\n",
       "      <td>[keep, waters]</td>\n",
       "      <td>{flood}</td>\n",
       "      <td>officials warned that strong winds off the oce...</td>\n",
       "    </tr>\n",
       "    <tr>\n",
       "      <th>3246</th>\n",
       "      <td>[flood, in, storms, their, and, head, to, chri...</td>\n",
       "      <td>[had, been, encouraged, to, evacuate]</td>\n",
       "      <td>[of, coastal, homes, higher]</td>\n",
       "      <td>{flood}</td>\n",
       "      <td>residents of coastal areas that regularly floo...</td>\n",
       "    </tr>\n",
       "    <tr>\n",
       "      <th>3247</th>\n",
       "      <td>[coastal, flood, watches, and, warnings, easte...</td>\n",
       "      <td>[in, place, from, southern, also, tracking, a,...</td>\n",
       "      <td>[national, weather]</td>\n",
       "      <td>{flood}</td>\n",
       "      <td>the national weather service had coastal flood...</td>\n",
       "    </tr>\n",
       "    <tr>\n",
       "      <th>3248</th>\n",
       "      <td>[guard, against, flood, of, imports, resulting...</td>\n",
       "      <td>[be, designed, to]</td>\n",
       "      <td>[a]</td>\n",
       "      <td>{flood}</td>\n",
       "      <td>bush, would be designed to guard against a flo...</td>\n",
       "    </tr>\n",
       "    <tr>\n",
       "      <th>3249</th>\n",
       "      <td>[and, argentina, suffered, extreme, heat, the,...</td>\n",
       "      <td>[whilst, drought, continued, in, struggled, with]</td>\n",
       "      <td>[and, south, african]</td>\n",
       "      <td>{drought}</td>\n",
       "      <td>also so far in 2018, \"australia and argentina ...</td>\n",
       "    </tr>\n",
       "    <tr>\n",
       "      <th>3250</th>\n",
       "      <td>[of, flood, of, brands, because, of, its, powe...</td>\n",
       "      <td>[unlikely]</td>\n",
       "      <td>[stop, advertising, on, facebook, targeting, t...</td>\n",
       "      <td>{flood}</td>\n",
       "      <td>but sharon rowlands, president of usa today ne...</td>\n",
       "    </tr>\n",
       "    <tr>\n",
       "      <th>3251</th>\n",
       "      <td>[of, swelled, of, since, 1991]</td>\n",
       "      <td>[the, by, decades, has, underpinned, economic,...</td>\n",
       "      <td>[flood, arrivals, avoiding, recession]</td>\n",
       "      <td>{flood}</td>\n",
       "      <td>a flood of arrivals that's swelled the populat...</td>\n",
       "    </tr>\n",
       "    <tr>\n",
       "      <th>3252</th>\n",
       "      <td>[funding, build, community,managed, rainwater,...</td>\n",
       "      <td>[be, used, to, to, it, will, be, directed, tow...</td>\n",
       "      <td>[provide, at, least, 130,000, people, with, in...</td>\n",
       "      <td>{flood}</td>\n",
       "      <td>funding will also be used to build community,m...</td>\n",
       "    </tr>\n",
       "    <tr>\n",
       "      <th>3253</th>\n",
       "      <td>[at, in, the, earthquake, left, the, aid, worl...</td>\n",
       "      <td>[for, sex, with, 2010, have]</td>\n",
       "      <td>[oxfam, paid, prostitutes, haiti]</td>\n",
       "      <td>{earthquake}</td>\n",
       "      <td>reports that staff at british charity oxfam pa...</td>\n",
       "    </tr>\n",
       "    <tr>\n",
       "      <th>3254</th>\n",
       "      <td>[propelling]</td>\n",
       "      <td>[a, flood, of]</td>\n",
       "      <td>[rapid, gains, autonomy,, and, growing, consumer]</td>\n",
       "      <td>{flood}</td>\n",
       "      <td>propelling these advances are a flood of inves...</td>\n",
       "    </tr>\n",
       "    <tr>\n",
       "      <th>3255</th>\n",
       "      <td>[hundred, years, time, 91st]</td>\n",
       "      <td>[paid, tribute]</td>\n",
       "      <td>[of, cholera, gabriel, marquez,birthday,amrita...</td>\n",
       "      <td>{cholera}</td>\n",
       "      <td>2018,03,06 gabriel garcia marquez,birthday,gar...</td>\n",
       "    </tr>\n",
       "    <tr>\n",
       "      <th>3256</th>\n",
       "      <td>[\"the, nhs, buckled, under, the, strain]</td>\n",
       "      <td>[during, the, current]</td>\n",
       "      <td>[flu, hospital, corridors, crowded, with, gurn...</td>\n",
       "      <td>{flu}</td>\n",
       "      <td>\"the nhs has buckled under the strain during t...</td>\n",
       "    </tr>\n",
       "    <tr>\n",
       "      <th>3257</th>\n",
       "      <td>[dengue, and, malaria, of, and, malaria]</td>\n",
       "      <td>[in, delhi, of, of, been, reported, in, february]</td>\n",
       "      <td>[malaria, 3, cases, chikungunya]</td>\n",
       "      <td>{malaria, dengue}</td>\n",
       "      <td>2018,03,06 dengue in delhi,dengue and malaria ...</td>\n",
       "    </tr>\n",
       "    <tr>\n",
       "      <th>3258</th>\n",
       "      <td>[early, of, the, virus, carrying, the, vector,...</td>\n",
       "      <td>[reported, in, delhi, in, indicating, spread]</td>\n",
       "      <td>[least, nine, cases, of, dengue]</td>\n",
       "      <td>{dengue}</td>\n",
       "      <td>(file)\\n\\nat least nine cases of dengue have b...</td>\n",
       "    </tr>\n",
       "    <tr>\n",
       "      <th>3259</th>\n",
       "      <td>[according, the, report]</td>\n",
       "      <td>[in, january, none, of, the, cases, of, to]</td>\n",
       "      <td>[of, malaria, diseases]</td>\n",
       "      <td>{malaria}</td>\n",
       "      <td>\"two cases of malaria and three cases of chiku...</td>\n",
       "    </tr>\n",
       "    <tr>\n",
       "      <th>3260</th>\n",
       "      <td>[died, the, municipal, corporation, entire]</td>\n",
       "      <td>[in, delhi, due, to, south, delhi, which, tabu...</td>\n",
       "      <td>[dengue]</td>\n",
       "      <td>{dengue}</td>\n",
       "      <td>at least 10 people died in delhi due to dengue...</td>\n",
       "    </tr>\n",
       "    <tr>\n",
       "      <th>3261</th>\n",
       "      <td>[the, official, toll, the, delhi, municipal]</td>\n",
       "      <td>[authorities, till, december, due]</td>\n",
       "      <td>[dengue]</td>\n",
       "      <td>{dengue}</td>\n",
       "      <td>the official toll maintained by the delhi muni...</td>\n",
       "    </tr>\n",
       "    <tr>\n",
       "      <th>3262</th>\n",
       "      <td>[first, victim, in, the, boy, died, of, dengue...</td>\n",
       "      <td>[city, last, year, on, august]</td>\n",
       "      <td>[tropical, disease]</td>\n",
       "      <td>{dengue}</td>\n",
       "      <td>the mosquito,borne tropical disease had claime...</td>\n",
       "    </tr>\n",
       "    <tr>\n",
       "      <th>3263</th>\n",
       "      <td>[and, cases, 1,142, and, 940, respectively]</td>\n",
       "      <td>[recorded, in, 2017, at]</td>\n",
       "      <td>[the, numbers, of, malaria, chikungunya]</td>\n",
       "      <td>{malaria}</td>\n",
       "      <td>the numbers of malaria and chikungunya cases r...</td>\n",
       "    </tr>\n",
       "    <tr>\n",
       "      <th>3264</th>\n",
       "      <td>[city, from, other, states, for, the]</td>\n",
       "      <td>[from, had, come, to]</td>\n",
       "      <td>[dengue, 4,726, patients, the]</td>\n",
       "      <td>{dengue}</td>\n",
       "      <td>of the 9,271 dengue cases, 4,726 patients were...</td>\n",
       "    </tr>\n",
       "    <tr>\n",
       "      <th>3265</th>\n",
       "      <td>[the, official, figure, of, the, civic, bodies]</td>\n",
       "      <td>[reported, from, various, city, the]</td>\n",
       "      <td>[least, 21, dengue, deaths]</td>\n",
       "      <td>{dengue}</td>\n",
       "      <td>in 2016, at least 21 dengue deaths were report...</td>\n",
       "    </tr>\n",
       "    <tr>\n",
       "      <th>3266</th>\n",
       "      <td>[]</td>\n",
       "      <td>[]</td>\n",
       "      <td>[dengue, in, malaria, and, chikungunya]</td>\n",
       "      <td>{malaria, dengue}</td>\n",
       "      <td>9 cases of dengue in delhi, malaria and chikun...</td>\n",
       "    </tr>\n",
       "    <tr>\n",
       "      <th>3267</th>\n",
       "      <td>[in, of, cholera, in, 1985]</td>\n",
       "      <td>[]</td>\n",
       "      <td>[love, the]</td>\n",
       "      <td>{cholera}</td>\n",
       "      <td>love in the time of cholera came out in 1985</td>\n",
       "    </tr>\n",
       "  </tbody>\n",
       "</table>\n",
       "<p>3268 rows × 5 columns</p>\n",
       "</div>"
      ],
      "text/plain": [
       "                                                      c  \\\n",
       "0     [the, state, consecutive, year, of, drought, ,...   \n",
       "1                  [900,1000mm, of, energy, harvesting]   \n",
       "2     [flood, areas, near, mackay, as, the, storm, w...   \n",
       "3     [the, tamil, nadu, traditional, water, resourc...   \n",
       "4     [the, project, ensure, adequate, water, he, ye...   \n",
       "5                                                    []   \n",
       "6     [2017,03,14, andaman, and, nicobar, andaman, a...   \n",
       "7     [9,magnitude, earthquake, hit, andaman, and, n...   \n",
       "8                        [tsunami, warning, earthquake]   \n",
       "9                            [earthquake, measuring, 3]   \n",
       "10     [9,magnitude, earthquake, strikes, andaman, and]   \n",
       "11    [coastal, flood, warnings, storm, surge, high,...   \n",
       "12    [from, the, of, irrigation, and, flood, contro...   \n",
       "13    [shook, and, windows, smashed, in, the, blast,...   \n",
       "14                    [trachoma,, malaria, and, dengue]   \n",
       "15    [mr, khurshid, of, health, at, metro, stations...   \n",
       "16    [drought, and, suffering, from, scarcity, of, ...   \n",
       "17    [of, videos, of, sangeet, dance, performances,...   \n",
       "18      [the, drought, plaguing, the, horn, of, africa]   \n",
       "19                          [tests, for, strep, throat]   \n",
       "20    [and, policies\", or, free, gas, connections, f...   \n",
       "21    [drought, and, food, shortages, since, with, t...   \n",
       "22    [court,drought,drought, water, shortages, acro...   \n",
       "23             [loan, waivers, and, compensation, year]   \n",
       "24    [drought, water, shortages, and, excessive, de...   \n",
       "25                                      [asif, the, of]   \n",
       "26                                                 [of]   \n",
       "27               [20,000, nurses, illegal, under, esma]   \n",
       "28    [water, shortages, and, drought, as, the, hot,...   \n",
       "29                            [10, of, drought, season]   \n",
       "...                                                 ...   \n",
       "3238                               [earthquake, guinea]   \n",
       "3239              [2009, pandemic, flu, season, showed]   \n",
       "3240                 [and, sandbags, warned, residents]   \n",
       "3241  [coastal, flood, watches, and, warnings, coast...   \n",
       "3242   [sandbags, and, warnings, as, northeast, braces]   \n",
       "3243  [2018,03,03, northeast, us, storm,us, floods,u...   \n",
       "3244                                [the, first, flood]   \n",
       "3245  [of, higher, flood, levels, at, the, high, due...   \n",
       "3246  [flood, in, storms, their, and, head, to, chri...   \n",
       "3247  [coastal, flood, watches, and, warnings, easte...   \n",
       "3248  [guard, against, flood, of, imports, resulting...   \n",
       "3249  [and, argentina, suffered, extreme, heat, the,...   \n",
       "3250  [of, flood, of, brands, because, of, its, powe...   \n",
       "3251                     [of, swelled, of, since, 1991]   \n",
       "3252  [funding, build, community,managed, rainwater,...   \n",
       "3253  [at, in, the, earthquake, left, the, aid, worl...   \n",
       "3254                                       [propelling]   \n",
       "3255                       [hundred, years, time, 91st]   \n",
       "3256           [\"the, nhs, buckled, under, the, strain]   \n",
       "3257           [dengue, and, malaria, of, and, malaria]   \n",
       "3258  [early, of, the, virus, carrying, the, vector,...   \n",
       "3259                           [according, the, report]   \n",
       "3260        [died, the, municipal, corporation, entire]   \n",
       "3261       [the, official, toll, the, delhi, municipal]   \n",
       "3262  [first, victim, in, the, boy, died, of, dengue...   \n",
       "3263        [and, cases, 1,142, and, 940, respectively]   \n",
       "3264              [city, from, other, states, for, the]   \n",
       "3265    [the, official, figure, of, the, civic, bodies]   \n",
       "3266                                                 []   \n",
       "3267                        [in, of, cholera, in, 1985]   \n",
       "\n",
       "                                                     cc  \\\n",
       "0     [means, the, expected, scanty, rainfall, this,...   \n",
       "1     [except, for, very, work, involves, the, field...   \n",
       "2     [was, expected, to, up, waves, and, currents, ...   \n",
       "3                               [revived, a, involving]   \n",
       "4                               [even, during, due, to]   \n",
       "5                      [been, linked, to, the, drought]   \n",
       "6                                                    []   \n",
       "7                                                    []   \n",
       "8                                               [sends]   \n",
       "9                                                    []   \n",
       "10                                                   []   \n",
       "11    [were, also, in, effect, for, is, expected, du...   \n",
       "12    [same, constituency, in, 2007, and, was, appoi...   \n",
       "13                                                   []   \n",
       "14                          [are, expected, to, become]   \n",
       "15                          [also, announced, promises]   \n",
       "16                                            [hit, by]   \n",
       "17                                            [youtube]   \n",
       "18    [struggling, already, with, the, impact, of, t...   \n",
       "19                                                   []   \n",
       "20                                  [the, in, is, even]   \n",
       "21                                   [suffered, severe]   \n",
       "22                                      [were, hit, by]   \n",
       "23     [summoned, top, bureaucrats, from, for, hit, by]   \n",
       "24                                        [country, in]   \n",
       "25                        [discuss, the, design, india]   \n",
       "26    [introduced, by, nepalese, un, peacekeepers, s...   \n",
       "27                                         [strike, by]   \n",
       "28             [the, march, 15, incident, could, cause]   \n",
       "29           [normally, holds, especially, during, the]   \n",
       "...                                                 ...   \n",
       "3238                      [second, strikes, papua, new]   \n",
       "3239                   [from, it, was, a, risk, factor]   \n",
       "3240  [destroyed, by, the, powerful, friday, that, t...   \n",
       "3241  [in, place, from, southern, maine, that, a, sn...   \n",
       "3242                                                 []   \n",
       "3243          [businesses, were, surrounded, with, the]   \n",
       "3244                                     [occurred, 11]   \n",
       "3245  [strong, winds, could, high, and, posed, a, ri...   \n",
       "3246              [had, been, encouraged, to, evacuate]   \n",
       "3247  [in, place, from, southern, also, tracking, a,...   \n",
       "3248                                 [be, designed, to]   \n",
       "3249  [whilst, drought, continued, in, struggled, with]   \n",
       "3250                                         [unlikely]   \n",
       "3251  [the, by, decades, has, underpinned, economic,...   \n",
       "3252  [be, used, to, to, it, will, be, directed, tow...   \n",
       "3253                       [for, sex, with, 2010, have]   \n",
       "3254                                     [a, flood, of]   \n",
       "3255                                    [paid, tribute]   \n",
       "3256                             [during, the, current]   \n",
       "3257  [in, delhi, of, of, been, reported, in, february]   \n",
       "3258      [reported, in, delhi, in, indicating, spread]   \n",
       "3259        [in, january, none, of, the, cases, of, to]   \n",
       "3260  [in, delhi, due, to, south, delhi, which, tabu...   \n",
       "3261                 [authorities, till, december, due]   \n",
       "3262                     [city, last, year, on, august]   \n",
       "3263                           [recorded, in, 2017, at]   \n",
       "3264                              [from, had, come, to]   \n",
       "3265               [reported, from, various, city, the]   \n",
       "3266                                                 []   \n",
       "3267                                                 []   \n",
       "\n",
       "                                                      e                kws  \\\n",
       "0                                          [is, facing]          {drought}   \n",
       "1                               [rainfall, drought, mr]          {drought}   \n",
       "2                                        [tidal, surge]            {flood}   \n",
       "3                                   [government, worst]          {drought}   \n",
       "4       [supply, drought, unlike, crop, loss, suffered]          {drought}   \n",
       "5                                             [farmers]          {drought}   \n",
       "6     [nicobar, islands,andaman, and, nicobar, islan...       {earthquake}   \n",
       "7                                                    []       {earthquake}   \n",
       "8                                            [littoral]       {earthquake}   \n",
       "9                                                    []       {earthquake}   \n",
       "10                                   [nicobar, islands]       {earthquake}   \n",
       "11                                    [of, the, region]            {flood}   \n",
       "12                                                   []            {flood}   \n",
       "13    [late, earthquake, ,,, bricks, debris, strewn,...       {earthquake}   \n",
       "14                                                   []  {malaria, dengue}   \n",
       "15    [task, vector,borne, epidemics, like, dengue, ...           {dengue}   \n",
       "16                                          [karnataka]          {drought}   \n",
       "17                                    [platforms, like]            {flood}   \n",
       "18                                                   []          {drought}   \n",
       "19                                [and, the, flu, came]              {flu}   \n",
       "20    [poor, ,, in, ballia, in, eastern, ,, where, p...          {drought}   \n",
       "21                                      [indian, ocean]          {drought}   \n",
       "22    [2017,03,23, drought, india,ias, abhiyan,droug...          {drought}   \n",
       "23             [crop, losses, to, millions, of, people]          {drought}   \n",
       "24        [caused, crop, flee, villages, search, food,]          {drought}   \n",
       "25    [aspects, pakal, dul,, lower, kalnai, and, miy...            {flood}   \n",
       "26                    [an, outbreak, cholera, in, 2010]          {cholera}   \n",
       "27                 [dengue, and, chikungunya, ravaging]           {dengue}   \n",
       "28                                              [local]          {drought}   \n",
       "29                                     [metres, water,]          {drought}   \n",
       "...                                                 ...                ...   \n",
       "3238                                                 []       {earthquake}   \n",
       "3239                                                 []              {flu}   \n",
       "3240  [with, and, officials, to, flood, coasts, from...            {flood}   \n",
       "3241                                                 []            {flood}   \n",
       "3242                                            [flood]            {flood}   \n",
       "3243  [storm, cars, sandbags, and, waves, pounded, h...            {flood}   \n",
       "3244                                   [surge, extreme]            {flood}   \n",
       "3245                                     [keep, waters]            {flood}   \n",
       "3246                       [of, coastal, homes, higher]            {flood}   \n",
       "3247                                [national, weather]            {flood}   \n",
       "3248                                                [a]            {flood}   \n",
       "3249                              [and, south, african]          {drought}   \n",
       "3250  [stop, advertising, on, facebook, targeting, t...            {flood}   \n",
       "3251             [flood, arrivals, avoiding, recession]            {flood}   \n",
       "3252  [provide, at, least, 130,000, people, with, in...            {flood}   \n",
       "3253                  [oxfam, paid, prostitutes, haiti]       {earthquake}   \n",
       "3254  [rapid, gains, autonomy,, and, growing, consumer]            {flood}   \n",
       "3255  [of, cholera, gabriel, marquez,birthday,amrita...          {cholera}   \n",
       "3256  [flu, hospital, corridors, crowded, with, gurn...              {flu}   \n",
       "3257                   [malaria, 3, cases, chikungunya]  {malaria, dengue}   \n",
       "3258                   [least, nine, cases, of, dengue]           {dengue}   \n",
       "3259                            [of, malaria, diseases]          {malaria}   \n",
       "3260                                           [dengue]           {dengue}   \n",
       "3261                                           [dengue]           {dengue}   \n",
       "3262                                [tropical, disease]           {dengue}   \n",
       "3263           [the, numbers, of, malaria, chikungunya]          {malaria}   \n",
       "3264                     [dengue, 4,726, patients, the]           {dengue}   \n",
       "3265                        [least, 21, dengue, deaths]           {dengue}   \n",
       "3266            [dengue, in, malaria, and, chikungunya]  {malaria, dengue}   \n",
       "3267                                        [love, the]          {cholera}   \n",
       "\n",
       "                                                   sent  \n",
       "0     which means the expected scanty rainfall this ...  \n",
       "1     \"bangalore receives around 900,1000mm of rainf...  \n",
       "2     a tidal surge was expected to flood low,lying ...  \n",
       "3     the tamil nadu government today revived a trad...  \n",
       "4     he believes that the project will ensure adequ...  \n",
       "5     seventeen farmers had killed themselves; and a...  \n",
       "6     2017,03,14 andaman and nicobar islands,earthqu...  \n",
       "7     9,magnitude earthquake hit andaman and nicobar...  \n",
       "8     india has a dedicated tsunami warning centre t...  \n",
       "9                        another earthquake measuring 3  \n",
       "10    9,magnitude earthquake strikes andaman and nic...  \n",
       "11    coastal flood warnings were also in effect for...  \n",
       "12    he was re,elected from the same constituency i...  \n",
       "13    houses shook and windows were smashed late sat...  \n",
       "14    diseases such as cholera, blinding trachoma, m...  \n",
       "15    mr khurshid also announced promises of task fo...  \n",
       "16    karnataka has been hit by drought and sufferin...  \n",
       "17    there are plenty of videos of sangeet dance pe...  \n",
       "18    \"\"poor people in developing countries are stru...  \n",
       "19    julie breen, 33, took her husband to the emerg...  \n",
       "20    for example, one of the most successful and \"s...  \n",
       "21    the indian ocean island has suffered severe dr...  \n",
       "22    2017,03,23 drought in india,ias officers,supre...  \n",
       "23    © thomson reuters 2017\\n\\nthe supreme court ha...  \n",
       "24    \"last year's drought caused crop failures, wat...  \n",
       "25    asif said the two,day meeting will discuss the...  \n",
       "26    an outbreak of cholera in 2010 was introduced ...  \n",
       "27    last year with dengue and chikungunya ravaging...  \n",
       "28    local police also said the march 15 incident c...  \n",
       "29    it normally holds up to 10 million cubic metre...  \n",
       "...                                                 ...  \n",
       "3238  at least 18 killed as second earthquake strike...  \n",
       "3239  the data was collected from studies undertaken...  \n",
       "3240  2018,03,02 us storm,us floods,usa reuters,us f...  \n",
       "3241  \"the national weather service had coastal floo...  \n",
       "3242  sandbags and warnings as northeast us braces f...  \n",
       "3243  2018,03,03 northeast us storm,us floods,us sto...  \n",
       "3244  the first flood surge came at an extreme high ...  \n",
       "3245  officials warned that strong winds off the oce...  \n",
       "3246  residents of coastal areas that regularly floo...  \n",
       "3247  the national weather service had coastal flood...  \n",
       "3248  bush, would be designed to guard against a flo...  \n",
       "3249  also so far in 2018, \"australia and argentina ...  \n",
       "3250  but sharon rowlands, president of usa today ne...  \n",
       "3251  a flood of arrivals that's swelled the populat...  \n",
       "3252  funding will also be used to build community,m...  \n",
       "3253  reports that staff at british charity oxfam pa...  \n",
       "3254  propelling these advances are a flood of inves...  \n",
       "3255  2018,03,06 gabriel garcia marquez,birthday,gar...  \n",
       "3256  \"the nhs has buckled under the strain during t...  \n",
       "3257  2018,03,06 dengue in delhi,dengue and malaria ...  \n",
       "3258  (file)\\n\\nat least nine cases of dengue have b...  \n",
       "3259  \"two cases of malaria and three cases of chiku...  \n",
       "3260  at least 10 people died in delhi due to dengue...  \n",
       "3261  the official toll maintained by the delhi muni...  \n",
       "3262  the mosquito,borne tropical disease had claime...  \n",
       "3263  the numbers of malaria and chikungunya cases r...  \n",
       "3264  of the 9,271 dengue cases, 4,726 patients were...  \n",
       "3265  in 2016, at least 21 dengue deaths were report...  \n",
       "3266  9 cases of dengue in delhi, malaria and chikun...  \n",
       "3267       love in the time of cholera came out in 1985  \n",
       "\n",
       "[3268 rows x 5 columns]"
      ]
     },
     "execution_count": 368,
     "metadata": {},
     "output_type": "execute_result"
    }
   ],
   "source": [
    "pd.DataFrame(ndtv_sent)"
   ]
  },
  {
   "cell_type": "code",
   "execution_count": 357,
   "metadata": {},
   "outputs": [
    {
     "data": {
      "text/plain": [
       "array(['which', ',', 'enough', 'for'], dtype=object)"
      ]
     },
     "execution_count": 357,
     "metadata": {},
     "output_type": "execute_result"
    }
   ],
   "source": [
    "c=pd.Series(ndtv[0].split())[[i for i, x in enumerate(ndtv_res[0]) if x == \"c\"]].values\n",
    "c=pd.Series(ndtv[0].split())[[i for i, x in enumerate(ndtv_res[0]) if x == \"cc\"]].values\n",
    "c=pd.Series(ndtv[0].split())[[i for i, x in enumerate(ndtv_res[0]) if x == \"e\"]].values\n"
   ]
  },
  {
   "cell_type": "code",
   "execution_count": 341,
   "metadata": {},
   "outputs": [
    {
     "data": {
      "text/plain": [
       "['which',\n",
       " 'means',\n",
       " 'the',\n",
       " 'expected',\n",
       " 'scanty',\n",
       " 'rainfall',\n",
       " 'this',\n",
       " 'year',\n",
       " ',',\n",
       " 'when',\n",
       " 'the',\n",
       " 'state',\n",
       " 'is',\n",
       " 'facing',\n",
       " 'is',\n",
       " 'second',\n",
       " 'consecutive',\n",
       " 'year',\n",
       " 'of',\n",
       " 'drought',\n",
       " ',',\n",
       " 'will',\n",
       " 'be',\n",
       " 'enough',\n",
       " 'for',\n",
       " 'their',\n",
       " 'needs']"
      ]
     },
     "execution_count": 341,
     "metadata": {},
     "output_type": "execute_result"
    }
   ],
   "source": [
    "ndtv[0].split()"
   ]
  },
  {
   "cell_type": "code",
   "execution_count": null,
   "metadata": {
    "collapsed": true
   },
   "outputs": [],
   "source": []
  }
 ],
 "metadata": {
  "kernelspec": {
   "display_name": "Python 3",
   "language": "python",
   "name": "python3"
  },
  "language_info": {
   "codemirror_mode": {
    "name": "ipython",
    "version": 3
   },
   "file_extension": ".py",
   "mimetype": "text/x-python",
   "name": "python",
   "nbconvert_exporter": "python",
   "pygments_lexer": "ipython3",
   "version": "3.6.7"
  }
 },
 "nbformat": 4,
 "nbformat_minor": 2
}
