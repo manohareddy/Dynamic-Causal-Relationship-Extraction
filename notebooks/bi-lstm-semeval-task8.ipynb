{
 "cells": [
  {
   "cell_type": "code",
   "execution_count": 56,
   "metadata": {
    "collapsed": true
   },
   "outputs": [],
   "source": [
    "import numpy as np\n",
    "import pandas as pd\n",
    "import json\n",
    "import pickle\n",
    "import os\n",
    "import numpy as np\n",
    "import pickle, sys, os\n",
    "from keras.preprocessing.sequence import pad_sequences\n",
    "from keras.utils.np_utils import to_categorical\n",
    "from keras.layers import Embedding\n",
    "from keras.layers import Dense, Input, Flatten\n",
    "from keras.layers import TimeDistributed\n",
    "from keras.layers import LSTM, Bidirectional\n",
    "from keras.models import Model, load_model\n",
    "from sklearn.model_selection import train_test_split\n",
    "from sklearn.utils import shuffle\n",
    "from sklearn.metrics import accuracy_score, confusion_matrix\n",
    "import matplotlib.pyplot as plt"
   ]
  },
  {
   "cell_type": "code",
   "execution_count": 2,
   "metadata": {
    "collapsed": true
   },
   "outputs": [],
   "source": [
    "lines=[]\n",
    "for line in open('SemEval2010_task8_all_data/SemEval2010_task8_training/TRAIN_FILE.TXT', 'r'):\n",
    "    lines.append(line.strip())"
   ]
  },
  {
   "cell_type": "code",
   "execution_count": 3,
   "metadata": {
    "collapsed": true
   },
   "outputs": [],
   "source": [
    "data=dict.fromkeys([i for i in range(0,8000)])\n",
    "k=0\n",
    "sents=[]\n",
    "for i in range(0,len(lines),4):\n",
    "    if lines[i+1]=='Cause-Effect(e2,e1)':\n",
    "        k+=1\n",
    "        data[k]={'sent':'', 'type':'', 'comment':''}\n",
    "        data[k]['sent']=lines[i]\n",
    "        data[k]['type']=lines[i+1]\n",
    "        sents.append(lines[i])"
   ]
  },
  {
   "cell_type": "code",
   "execution_count": 4,
   "metadata": {
    "collapsed": true
   },
   "outputs": [],
   "source": [
    "sents=[i.split('\"')[1] for i in sents]"
   ]
  },
  {
   "cell_type": "code",
   "execution_count": 5,
   "metadata": {
    "collapsed": true
   },
   "outputs": [],
   "source": [
    "t=[]\n",
    "for k in sents:\n",
    "    k=k[:-1].strip().split()\n",
    "    l=[]\n",
    "    for i in k:\n",
    "        if i[:4] =='<e1>' or i[:-5]=='</e1>':\n",
    "            l.append((i[4:-5]+'/e'))\n",
    "        elif i[:4] == '<e2>' or i[:-5]=='</e2>':\n",
    "            l.append((i[4:-5]+'/c'))\n",
    "        else:\n",
    "            l.append((i+'/n'))\n",
    "    t.append(l)"
   ]
  },
  {
   "cell_type": "code",
   "execution_count": 6,
   "metadata": {
    "collapsed": true
   },
   "outputs": [],
   "source": [
    "a=[' '.join(i) for i in t]"
   ]
  },
  {
   "cell_type": "code",
   "execution_count": 53,
   "metadata": {
    "collapsed": true
   },
   "outputs": [],
   "source": [
    "with open('semeval-cause-effect.txt', 'w') as f:\n",
    "    f.write(str(a))"
   ]
  },
  {
   "cell_type": "code",
   "execution_count": 4,
   "metadata": {
    "collapsed": true
   },
   "outputs": [],
   "source": [
    "with open('semeval-cause-effect.txt', 'r') as f:\n",
    "    a=f.read()"
   ]
  },
  {
   "cell_type": "code",
   "execution_count": 7,
   "metadata": {
    "collapsed": true
   },
   "outputs": [],
   "source": [
    "sentences=[(' ').join([i[:-2] for i in k.split()]) for k in a]"
   ]
  },
  {
   "cell_type": "code",
   "execution_count": 8,
   "metadata": {
    "collapsed": true
   },
   "outputs": [],
   "source": [
    "df_semeval=pd.DataFrame(sentences)"
   ]
  },
  {
   "cell_type": "code",
   "execution_count": 9,
   "metadata": {},
   "outputs": [
    {
     "data": {
      "text/plain": [
       "659"
      ]
     },
     "execution_count": 9,
     "metadata": {},
     "output_type": "execute_result"
    }
   ],
   "source": [
    "len(sents)"
   ]
  },
  {
   "cell_type": "code",
   "execution_count": 10,
   "metadata": {
    "collapsed": true
   },
   "outputs": [],
   "source": [
    "#X_train list of split sentences [[akmak,anfa], [afjnadn,jadnfud],....]\n",
    "#Y_train list of lists of tags for sentences [[c,n,cc,e], [c,e],...]\n",
    "#words is all words set\n",
    "#tags is set of all tags\n",
    "#"
   ]
  },
  {
   "cell_type": "code",
   "execution_count": 11,
   "metadata": {},
   "outputs": [
    {
     "name": "stdout",
     "output_type": "stream",
     "text": [
      "OMITTED sentences:  60 \n",
      "\n",
      "TOTAL NO OF SAMPLES:  658 \n",
      "\n",
      "sample X_train:  ['relieve', 'spinal', 'stenosis', 'by', 'enlarging', 'the', 'spinal', 'canal', 'to', 'relieve', 'pressure', 'on', 'the', 'spinal', 'cord', 'that', 'has', 'been', 'caused', 'by', 'a', 'herniated', 'or', 'bulging', 'disc'] \n",
      "\n",
      "sample Y_train:  ['n', 'n', 'n', 'n', 'n', 'n', 'n', 'n', 'n', 'n', 'e', 'n', 'n', 'n', 'n', 'n', 'n', 'n', 'n', 'n', 'n', 'n', 'n', 'n', 'c'] \n",
      "\n",
      "VOCAB SIZE:  4081\n",
      "TOTAL TAGS:  3\n"
     ]
    }
   ],
   "source": [
    "X_train = []\n",
    "Y_train = []\n",
    "\n",
    "words = []\n",
    "tags = []\n",
    "\n",
    "with_slash = False\n",
    "n_omitted = 0\n",
    "\n",
    "for line in t:\n",
    "    if(len(line)>0):\n",
    "        tempX = []\n",
    "        tempY = []\n",
    "        for word in line:\n",
    "            try:            \n",
    "                w, tag = word.split('/')\n",
    "            except:\n",
    "                # with_slash = True\n",
    "                n_omitted = n_omitted + 1\n",
    "                break\n",
    "\n",
    "            w = w.lower()\n",
    "            words.append(w)\n",
    "            tags.append(tag)\n",
    "\n",
    "            tempX.append(w)\n",
    "            tempY.append(tag)\n",
    "        \n",
    "        X_train.append(tempX)\n",
    "        Y_train.append(tempY)\n",
    "\n",
    "\n",
    "print('OMITTED sentences: ', n_omitted, '\\n')\n",
    "print('TOTAL NO OF SAMPLES: ', len(X_train), '\\n')\n",
    "\n",
    "\n",
    "print('sample X_train: ', X_train[42], '\\n')\n",
    "print('sample Y_train: ', Y_train[42], '\\n')\n",
    "\n",
    "words = set(words)\n",
    "tags = set(tags)\n",
    "\n",
    "print('VOCAB SIZE: ', len(words))\n",
    "print('TOTAL TAGS: ', len(tags))\n",
    "\n",
    "assert len(X_train) == len(Y_train)"
   ]
  },
  {
   "cell_type": "code",
   "execution_count": 12,
   "metadata": {},
   "outputs": [
    {
     "data": {
      "text/plain": [
       "{'c', 'e', 'n'}"
      ]
     },
     "execution_count": 12,
     "metadata": {},
     "output_type": "execute_result"
    }
   ],
   "source": [
    "tags"
   ]
  },
  {
   "cell_type": "code",
   "execution_count": 13,
   "metadata": {},
   "outputs": [
    {
     "name": "stdout",
     "output_type": "stream",
     "text": [
      "sample X_train_numberised:  [729, 2572, 272, 2865, 2659, 3166, 2572, 3481, 3259, 729, 2097, 3897, 3166, 2572, 4, 1103, 3159, 2213, 1021, 2865, 4000, 3266, 283, 1001, 2423] \n",
      "\n",
      "sample Y_train_numberised:  [3, 3, 3, 3, 3, 3, 3, 3, 3, 3, 2, 3, 3, 3, 3, 3, 3, 3, 3, 3, 3, 3, 3, 3, 1] \n",
      "\n"
     ]
    }
   ],
   "source": [
    "\n",
    "word2int = {}\n",
    "int2word = {}\n",
    "\n",
    "for i, word in enumerate(words):\n",
    "    word2int[word] = i+1\n",
    "    int2word[i+1] = word\n",
    "\n",
    "tag2int = {}\n",
    "int2tag = {}\n",
    "\n",
    "for i, tag in enumerate(tags):\n",
    "    tag2int[tag] = i+1\n",
    "    int2tag[i+1] = tag\n",
    "\n",
    "X_train_numberised = []\n",
    "Y_train_numberised = []\n",
    "\n",
    "for sentence in X_train:\n",
    "    tempX = []\n",
    "    for word in sentence:\n",
    "        tempX.append(word2int[word])\n",
    "    X_train_numberised.append(tempX)\n",
    "\n",
    "for tagz in Y_train:\n",
    "    tempY = []\n",
    "    for tag in tagz:\n",
    "        tempY.append(tag2int[tag])\n",
    "    Y_train_numberised.append(tempY)\n",
    "\n",
    "print('sample X_train_numberised: ', X_train_numberised[42], '\\n')\n",
    "print('sample Y_train_numberised: ', Y_train_numberised[42], '\\n')\n",
    "\n",
    "X_train_numberised = np.asarray(X_train_numberised)\n",
    "Y_train_numberised = np.asarray(Y_train_numberised)\n",
    "\n",
    "pickle_files = [X_train_numberised, Y_train_numberised, word2int, int2word, tag2int, int2tag]\n"
   ]
  },
  {
   "cell_type": "code",
   "execution_count": 14,
   "metadata": {
    "collapsed": true
   },
   "outputs": [],
   "source": [
    "tags=set(tags)"
   ]
  },
  {
   "cell_type": "code",
   "execution_count": 15,
   "metadata": {
    "collapsed": true
   },
   "outputs": [],
   "source": [
    "embeddings_index = {}\n",
    "\n",
    "with open('glove.6B/glove.6B.100d.txt', encoding=\"utf8\") as glove_file:\n",
    "    for line in glove_file:\n",
    "        values = line.split()\n",
    "        word = values[0]\n",
    "        coefs = np.asarray(values[1:], dtype='float32')\n",
    "        embeddings_index[word] = coefs\n"
   ]
  },
  {
   "cell_type": "code",
   "execution_count": 16,
   "metadata": {
    "collapsed": true
   },
   "outputs": [],
   "source": [
    "\n",
    "# PARAMETERS ================\n",
    "MAX_SEQUENCE_LENGTH = 100\n",
    "EMBEDDING_DIM = 100\n",
    "TEST_SPLIT = 0.1\n",
    "VALIDATION_SPLIT = 0.1\n",
    "BATCH_SIZE = 8\n"
   ]
  },
  {
   "cell_type": "code",
   "execution_count": 17,
   "metadata": {
    "collapsed": true
   },
   "outputs": [],
   "source": [
    "X, y, word2int, int2word, tag2int, int2tag = pickle_files "
   ]
  },
  {
   "cell_type": "code",
   "execution_count": 18,
   "metadata": {
    "collapsed": true
   },
   "outputs": [],
   "source": [
    "def generator(all_X, all_y, n_classes, batch_size=BATCH_SIZE):\n",
    "    num_samples = len(all_X)\n",
    "\n",
    "    while True:\n",
    "\n",
    "        for offset in range(0, num_samples, batch_size):\n",
    "            \n",
    "            X = all_X[offset:offset+batch_size]\n",
    "            y = all_y[offset:offset+batch_size]\n",
    "\n",
    "            y = to_categorical(y, num_classes=n_classes)\n",
    "\n",
    "\n",
    "            yield shuffle(X, y)\n"
   ]
  },
  {
   "cell_type": "code",
   "execution_count": 19,
   "metadata": {},
   "outputs": [
    {
     "name": "stdout",
     "output_type": "stream",
     "text": [
      "TOTAL TAGS 3\n",
      "TOTAL WORDS 4081\n"
     ]
    }
   ],
   "source": [
    "n_tags = len(tag2int)\n",
    "\n",
    "X = pad_sequences(X, maxlen=MAX_SEQUENCE_LENGTH)\n",
    "y = pad_sequences(y, maxlen=MAX_SEQUENCE_LENGTH)\n",
    "\n",
    "# y = to_categorical(y, num_classes=len(tag2int) + 1)\n",
    "\n",
    "print('TOTAL TAGS', len(tag2int))\n",
    "print('TOTAL WORDS', len(word2int))\n"
   ]
  },
  {
   "cell_type": "code",
   "execution_count": 20,
   "metadata": {},
   "outputs": [
    {
     "name": "stdout",
     "output_type": "stream",
     "text": [
      "We have 532 TRAINING samples\n",
      "We have 60 VALIDATION samples\n",
      "We have 66 TEST samples\n"
     ]
    }
   ],
   "source": [
    "\n",
    "# shuffle the data\n",
    "X, y = shuffle(X, y)\n",
    "\n",
    "# split data into train and test\n",
    "X_train, X_test, y_train, y_test = train_test_split(X, y, test_size=TEST_SPLIT,random_state=42)\n",
    "\n",
    "# split training data into train and validation\n",
    "X_train, X_val, y_train, y_val = train_test_split(X_train, y_train, test_size=VALIDATION_SPLIT, random_state=1)\n",
    "\n",
    "n_train_samples = X_train.shape[0]\n",
    "n_val_samples = X_val.shape[0]\n",
    "n_test_samples = X_test.shape[0]\n",
    "y_test = to_categorical(y_test, num_classes=n_tags+1)\n",
    "\n",
    "print('We have %d TRAINING samples' % n_train_samples)\n",
    "print('We have %d VALIDATION samples' % n_val_samples)\n",
    "print('We have %d TEST samples' % n_test_samples)\n"
   ]
  },
  {
   "cell_type": "code",
   "execution_count": 21,
   "metadata": {
    "collapsed": true
   },
   "outputs": [],
   "source": [
    "train_generator = generator(all_X=X_train, all_y=y_train, n_classes=n_tags + 1)\n",
    "validation_generator = generator(all_X=X_val, all_y=y_val, n_classes=n_tags + 1)\n",
    "\n"
   ]
  },
  {
   "cell_type": "code",
   "execution_count": 42,
   "metadata": {
    "collapsed": true
   },
   "outputs": [],
   "source": [
    "test_generator=generator(all_X=X_test, all_y=y_test, n_classes=n_tags + 1)"
   ]
  },
  {
   "cell_type": "code",
   "execution_count": 22,
   "metadata": {},
   "outputs": [
    {
     "name": "stdout",
     "output_type": "stream",
     "text": [
      "Total 400000 word vectors.\n",
      "Embedding matrix shape (4082, 100)\n",
      "X_train shape (532, 100)\n"
     ]
    }
   ],
   "source": [
    "\n",
    "print('Total %s word vectors.' % len(embeddings_index))\n",
    "\n",
    "# + 1 to include the unkown word\n",
    "embedding_matrix = np.random.random((len(word2int) + 1, EMBEDDING_DIM))\n",
    "\n",
    "for word, i in word2int.items():\n",
    "    embedding_vector = embeddings_index.get(word)\n",
    "    if embedding_vector is not None:\n",
    "        # words not found in embeddings_index will remain unchanged and thus will be random.\n",
    "        embedding_matrix[i] = embedding_vector\n",
    "\n",
    "print('Embedding matrix shape', embedding_matrix.shape)\n",
    "print('X_train shape', X_train.shape)"
   ]
  },
  {
   "cell_type": "code",
   "execution_count": 23,
   "metadata": {
    "collapsed": true
   },
   "outputs": [],
   "source": [
    "model=0\n",
    "embedding_layer = Embedding(len(word2int) + 1,\n",
    "                            EMBEDDING_DIM,\n",
    "                            weights=[embedding_matrix],\n",
    "                            input_length=MAX_SEQUENCE_LENGTH,\n",
    "                            trainable=True)\n",
    "sequence_input = Input(shape=(MAX_SEQUENCE_LENGTH,), dtype='int32')\n",
    "embedded_sequences = embedding_layer(sequence_input)\n",
    "\n",
    "l_lstm = Bidirectional(LSTM(128, return_sequences=True))(embedded_sequences)\n",
    "preds = TimeDistributed(Dense(n_tags + 1, activation='softmax'))(l_lstm)\n",
    "model = Model(sequence_input, preds)\n"
   ]
  },
  {
   "cell_type": "code",
   "execution_count": 24,
   "metadata": {},
   "outputs": [
    {
     "name": "stdout",
     "output_type": "stream",
     "text": [
      "model fitting - Bidirectional LSTM\n",
      "_________________________________________________________________\n",
      "Layer (type)                 Output Shape              Param #   \n",
      "=================================================================\n",
      "input_1 (InputLayer)         (None, 100)               0         \n",
      "_________________________________________________________________\n",
      "embedding_1 (Embedding)      (None, 100, 100)          408200    \n",
      "_________________________________________________________________\n",
      "bidirectional_1 (Bidirection (None, 100, 256)          234496    \n",
      "_________________________________________________________________\n",
      "time_distributed_1 (TimeDist (None, 100, 4)            1028      \n",
      "=================================================================\n",
      "Total params: 643,724\n",
      "Trainable params: 643,724\n",
      "Non-trainable params: 0\n",
      "_________________________________________________________________\n"
     ]
    }
   ],
   "source": [
    "\n",
    "model.compile(loss='categorical_crossentropy',\n",
    "              optimizer='rmsprop',\n",
    "              metrics=['acc'])\n",
    "\n",
    "print(\"model fitting - Bidirectional LSTM\")\n",
    "model.summary()"
   ]
  },
  {
   "cell_type": "code",
   "execution_count": 25,
   "metadata": {},
   "outputs": [
    {
     "name": "stdout",
     "output_type": "stream",
     "text": [
      "Epoch 1/25\n",
      "66/66 [==============================] - 15s 226ms/step - loss: 0.1005 - acc: 0.9625 - val_loss: 0.0526 - val_acc: 0.9793\n",
      "Epoch 2/25\n",
      "66/66 [==============================] - 13s 193ms/step - loss: 0.0390 - acc: 0.9849 - val_loss: 0.0342 - val_acc: 0.9875\n",
      "Epoch 3/25\n",
      "66/66 [==============================] - 13s 197ms/step - loss: 0.0256 - acc: 0.9903 - val_loss: 0.0277 - val_acc: 0.9898\n",
      "Epoch 4/25\n",
      "66/66 [==============================] - 14s 206ms/step - loss: 0.0196 - acc: 0.9927 - val_loss: 0.0250 - val_acc: 0.9904\n",
      "Epoch 5/25\n",
      "66/66 [==============================] - 14s 205ms/step - loss: 0.0148 - acc: 0.9945 - val_loss: 0.0248 - val_acc: 0.9908\n",
      "Epoch 6/25\n",
      "66/66 [==============================] - 14s 205ms/step - loss: 0.0111 - acc: 0.9963 - val_loss: 0.0291 - val_acc: 0.9892\n",
      "Epoch 7/25\n",
      "66/66 [==============================] - 14s 219ms/step - loss: 0.0080 - acc: 0.9973 - val_loss: 0.0271 - val_acc: 0.9904\n",
      "Epoch 8/25\n",
      "66/66 [==============================] - 15s 222ms/step - loss: 0.0059 - acc: 0.9983 - val_loss: 0.0308 - val_acc: 0.9877\n",
      "Epoch 9/25\n",
      "66/66 [==============================] - 16s 244ms/step - loss: 0.0037 - acc: 0.9989 - val_loss: 0.0323 - val_acc: 0.9893\n",
      "Epoch 10/25\n",
      "66/66 [==============================] - 15s 223ms/step - loss: 0.0028 - acc: 0.9994 - val_loss: 0.0352 - val_acc: 0.9890\n",
      "Epoch 11/25\n",
      "66/66 [==============================] - 15s 223ms/step - loss: 0.0016 - acc: 0.9998 - val_loss: 0.0355 - val_acc: 0.9898\n",
      "Epoch 12/25\n",
      "66/66 [==============================] - 15s 226ms/step - loss: 0.0011 - acc: 0.9997 - val_loss: 0.0344 - val_acc: 0.9912\n",
      "Epoch 13/25\n",
      "66/66 [==============================] - 15s 230ms/step - loss: 7.0638e-04 - acc: 0.9998 - val_loss: 0.0357 - val_acc: 0.9912\n",
      "Epoch 14/25\n",
      "66/66 [==============================] - 16s 242ms/step - loss: 3.9736e-04 - acc: 0.9999 - val_loss: 0.0429 - val_acc: 0.9896\n",
      "Epoch 15/25\n",
      "66/66 [==============================] - 15s 234ms/step - loss: 2.7911e-04 - acc: 0.9999 - val_loss: 0.0397 - val_acc: 0.9896\n",
      "Epoch 16/25\n",
      "66/66 [==============================] - 17s 253ms/step - loss: 3.2420e-04 - acc: 0.9999 - val_loss: 0.0447 - val_acc: 0.9890\n",
      "Epoch 17/25\n",
      "66/66 [==============================] - 17s 257ms/step - loss: 1.6542e-04 - acc: 1.0000 - val_loss: 0.0468 - val_acc: 0.9896\n",
      "Epoch 18/25\n",
      "66/66 [==============================] - 16s 242ms/step - loss: 3.7756e-05 - acc: 1.0000 - val_loss: 0.0429 - val_acc: 0.9908\n",
      "Epoch 19/25\n",
      "66/66 [==============================] - 17s 259ms/step - loss: 2.1378e-05 - acc: 1.0000 - val_loss: 0.0476 - val_acc: 0.9902\n",
      "Epoch 20/25\n",
      "66/66 [==============================] - 16s 239ms/step - loss: 1.3777e-05 - acc: 1.0000 - val_loss: 0.0466 - val_acc: 0.9913\n",
      "Epoch 21/25\n",
      "66/66 [==============================] - 17s 252ms/step - loss: 9.2406e-05 - acc: 1.0000 - val_loss: 0.0510 - val_acc: 0.9912\n",
      "Epoch 22/25\n",
      "66/66 [==============================] - 17s 251ms/step - loss: 8.6008e-06 - acc: 1.0000 - val_loss: 0.0570 - val_acc: 0.9904\n",
      "Epoch 23/25\n",
      "66/66 [==============================] - 17s 259ms/step - loss: 1.6495e-05 - acc: 1.0000 - val_loss: 0.0559 - val_acc: 0.9904\n",
      "Epoch 24/25\n",
      "66/66 [==============================] - 17s 260ms/step - loss: 7.2207e-06 - acc: 1.0000 - val_loss: 0.0575 - val_acc: 0.9902\n",
      "Epoch 25/25\n",
      "66/66 [==============================] - 18s 267ms/step - loss: 4.6300e-06 - acc: 1.0000 - val_loss: 0.0666 - val_acc: 0.9882\n"
     ]
    }
   ],
   "source": [
    "\n",
    "history=model.fit_generator(train_generator, \n",
    "                     steps_per_epoch=n_train_samples//BATCH_SIZE,\n",
    "                     validation_data=validation_generator,\n",
    "                     validation_steps=n_val_samples//BATCH_SIZE,\n",
    "                     epochs=25,\n",
    "                     verbose=1,\n",
    "                     workers=1)\n",
    "# fit_generator(generator, steps_per_epoch=None, epochs=1, verbose=1, callbacks=None, \n",
    "#               validation_data=None, validation_steps=None, validation_freq=1, class_weight=None, \n",
    "#               max_queue_size=10, workers=1, use_multiprocessing=False, shuffle=True, initial_epoch=0)\n"
   ]
  },
  {
   "cell_type": "code",
   "execution_count": 28,
   "metadata": {},
   "outputs": [
    {
     "data": {
      "image/png": "[encoded data removed]",
      "text/plain": [
       "<matplotlib.figure.Figure at 0x1a29cb1dd8>"
      ]
     },
     "metadata": {},
     "output_type": "display_data"
    }
   ],
   "source": [
    "plt.plot(history.history['acc'])\n",
    "plt.plot(history.history['val_acc'])\n",
    "plt.title('model accuracy')\n",
    "plt.ylabel('accuracy')\n",
    "plt.xlabel('epoch')\n",
    "plt.legend(['train', 'test'], loc='upper left')\n",
    "plt.show()\n"
   ]
  },
  {
   "cell_type": "code",
   "execution_count": 30,
   "metadata": {},
   "outputs": [
    {
     "data": {
      "image/png": "[encoded data removed]",
      "text/plain": [
       "<matplotlib.figure.Figure at 0x1a29d81c50>"
      ]
     },
     "metadata": {},
     "output_type": "display_data"
    }
   ],
   "source": [
    "# summarize history for loss\n",
    "plt.plot(history.history['loss'])\n",
    "plt.plot(history.history['val_loss'])\n",
    "plt.title('model loss')\n",
    "plt.ylabel('loss')\n",
    "plt.xlabel('epoch')\n",
    "plt.legend(['train', 'test'], loc='upper left')\n",
    "plt.show()"
   ]
  },
  {
   "cell_type": "code",
   "execution_count": 31,
   "metadata": {},
   "outputs": [
    {
     "name": "stdout",
     "output_type": "stream",
     "text": [
      "MODEL SAVED in Models/ as model.h5\n",
      "66/66 [==============================] - 0s 3ms/step\n",
      "TEST LOSS 0.055588 \n",
      "TEST ACCURACY: 0.990606\n"
     ]
    }
   ],
   "source": [
    "if not os.path.exists('Models/'):\n",
    "    print('MAKING DIRECTORY Models/ to save model file')\n",
    "    os.makedirs('Models/')\n",
    "\n",
    "train = True\n",
    "\n",
    "if train:\n",
    "    model.save('Models/model_semeval_v1.h5')\n",
    "    print('MODEL SAVED in Models/ as model.h5')\n",
    "else:\n",
    "    from keras.models import load_model\n",
    "    model = load_model('Models/model_0622_v4.h5')\n",
    "\n",
    "# y_test = to_categorical(y_test, num_classes=n_tags+1)\n",
    "test_results = model.evaluate(X_test, y_test, verbose=1)\n",
    "print('TEST LOSS %f \\nTEST ACCURACY: %f' % (test_results[0], test_results[1]))\n"
   ]
  },
  {
   "cell_type": "code",
   "execution_count": 67,
   "metadata": {},
   "outputs": [
    {
     "data": {
      "text/plain": [
       "inflammation       2\n",
       "earthquake         2\n",
       "pendulum           1\n",
       "case               1\n",
       "stress             1\n",
       "usgs               1\n",
       "dust<              1\n",
       "smiling            1\n",
       "command            1\n",
       "sources            1\n",
       "coal               1\n",
       "longings           1\n",
       "war                1\n",
       "condemning         1\n",
       "larynx             1\n",
       "cancers<           1\n",
       "repetition         1\n",
       "contraction        1\n",
       "drumming           1\n",
       "running            1\n",
       "irritants          1\n",
       "parasite           1\n",
       "elbow              1\n",
       "fireworks<         1\n",
       "tenenbaums)        1\n",
       "mania<             1\n",
       "cockroaches<       1\n",
       "cavity             1\n",
       "initiated          1\n",
       "indigestion        1\n",
       "tension            1\n",
       "resources          1\n",
       "deprivation        1\n",
       "globalization      1\n",
       "pleads             1\n",
       "pleas              1\n",
       "exhaustion         1\n",
       "shape              1\n",
       "funding            1\n",
       "virus<             1\n",
       "poverty            1\n",
       "compliance         1\n",
       "preservation       1\n",
       "cancer             1\n",
       "arm                1\n",
       "induced            1\n",
       "ulceration         1\n",
       "shaking            1\n",
       "lever              1\n",
       "tv                 1\n",
       "tugging            1\n",
       "influx             1\n",
       "radiation          1\n",
       "drought            1\n",
       "echoing            1\n",
       "inaccessibility    1\n",
       "i've               1\n",
       "slides             1\n",
       "indication         1\n",
       "spark              1\n",
       "Name: word, dtype: int64"
      ]
     },
     "execution_count": 67,
     "metadata": {},
     "output_type": "execute_result"
    }
   ],
   "source": [
    "pred_df_sub.word.value_counts()"
   ]
  },
  {
   "cell_type": "code",
   "execution_count": 39,
   "metadata": {},
   "outputs": [
    {
     "data": {
      "text/plain": [
       "array([   0,    0,    0,    0,    0,    0,    0,    0,    0,    0,    0,\n",
       "          0,    0,    0,    0,    0,    0,    0,    0,    0,    0,    0,\n",
       "          0,    0,    0,    0,    0,    0,    0,    0,    0,    0,    0,\n",
       "          0,    0,    0,    0,    0,    0,    0,    0,    0,    0,    0,\n",
       "          0,    0,    0,    0,    0,    0,    0,    0,    0,    0,    0,\n",
       "          0,    0,    0,    0,    0,    0,    0,    0,    0,    0,    0,\n",
       "          0,    0,    0,    0,    0,    0,    0,    0,    0,    0,    0,\n",
       "          0, 3166, 2992, 1444, 2305, 3458, 1103, 3166, 4048,   80, 1983,\n",
       "       3166, 3327, 2626,  298, 2937, 1955, 1103, 1042, 3166, 1560, 2699,\n",
       "       3765], dtype=int32)"
      ]
     },
     "execution_count": 39,
     "metadata": {},
     "output_type": "execute_result"
    }
   ],
   "source": [
    "X_test[2]"
   ]
  },
  {
   "cell_type": "code",
   "execution_count": 34,
   "metadata": {
    "collapsed": true
   },
   "outputs": [],
   "source": [
    "xtest=[[int2word[i] for i in j if i!=0] for j in X_test]"
   ]
  },
  {
   "cell_type": "code",
   "execution_count": 37,
   "metadata": {},
   "outputs": [
    {
     "data": {
      "text/plain": [
       "'the world health organization(who) found that the radiation release from the chernobyl accident was 200 times that of the hiroshima and nagasaki'"
      ]
     },
     "execution_count": 37,
     "metadata": {},
     "output_type": "execute_result"
    }
   ],
   "source": [
    "' '.join(xtest[2])"
   ]
  },
  {
   "cell_type": "code",
   "execution_count": 38,
   "metadata": {},
   "outputs": [
    {
     "data": {
      "text/plain": [
       "['n',\n",
       " 'n',\n",
       " 'n',\n",
       " 'n',\n",
       " 'n',\n",
       " 'n',\n",
       " 'n',\n",
       " 'e',\n",
       " 'n',\n",
       " 'n',\n",
       " 'n',\n",
       " 'n',\n",
       " 'c',\n",
       " 'n',\n",
       " 'n',\n",
       " 'n',\n",
       " 'n',\n",
       " 'n',\n",
       " 'n',\n",
       " 'n',\n",
       " 'n',\n",
       " 'n']"
      ]
     },
     "execution_count": 38,
     "metadata": {},
     "output_type": "execute_result"
    }
   ],
   "source": [
    "[int2tag[j] for j in [np.where(i==1)[0][0] for i in y_test[2]] if j !=0]"
   ]
  },
  {
   "cell_type": "code",
   "execution_count": 48,
   "metadata": {},
   "outputs": [
    {
     "data": {
      "text/plain": [
       "array([0, 0, 0, 0, 0, 0, 0, 0, 0, 0, 0, 0, 0, 0, 0, 0, 0, 0, 0, 0, 0, 0, 0,\n",
       "       0, 0, 0, 0, 0, 0, 0, 0, 0, 0, 0, 0, 0, 0, 0, 0, 0, 0, 0, 0, 0, 0, 0,\n",
       "       0, 0, 0, 0, 0, 0, 0, 0, 0, 0, 0, 0, 0, 0, 0, 0, 0, 0, 0, 0, 0, 0, 0,\n",
       "       0, 0, 0, 0, 0, 0, 0, 0, 0, 3, 3, 3, 3, 3, 3, 3, 2, 3, 3, 3, 3, 1, 3,\n",
       "       3, 3, 3, 3, 3, 3, 3, 3])"
      ]
     },
     "execution_count": 48,
     "metadata": {},
     "output_type": "execute_result"
    }
   ],
   "source": [
    "model.predict(X_test)[2].argmax(1)"
   ]
  },
  {
   "cell_type": "code",
   "execution_count": 96,
   "metadata": {
    "collapsed": true
   },
   "outputs": [],
   "source": [
    "model2=0\n",
    "embedding_layer2 = Embedding(len(word2int) + 1,\n",
    "                            EMBEDDING_DIM,\n",
    "                            weights=[embedding_matrix],\n",
    "                            input_length=MAX_SEQUENCE_LENGTH,\n",
    "                            trainable=True)\n",
    "sequence_input2 = Input(shape=(MAX_SEQUENCE_LENGTH,), dtype='int32')\n",
    "embedded_sequences2 = embedding_layer(sequence_input2)\n",
    "\n",
    "l_lstm2 = LSTM(128, return_sequences=True)(embedded_sequences2)\n",
    "l_lstm22 = LSTM(128, return_sequences=True)(l_lstm2)\n",
    "preds2 = TimeDistributed(Dense(n_tags + 1, activation='softmax'))(l_lstm22)\n",
    "model2 = Model(sequence_input2, preds2)"
   ]
  },
  {
   "cell_type": "code",
   "execution_count": 97,
   "metadata": {},
   "outputs": [
    {
     "name": "stdout",
     "output_type": "stream",
     "text": [
      "model fitting - LSTM\n",
      "_________________________________________________________________\n",
      "Layer (type)                 Output Shape              Param #   \n",
      "=================================================================\n",
      "input_3 (InputLayer)         (None, 100)               0         \n",
      "_________________________________________________________________\n",
      "embedding_1 (Embedding)      (None, 100, 100)          408200    \n",
      "_________________________________________________________________\n",
      "lstm_3 (LSTM)                (None, 100, 128)          117248    \n",
      "_________________________________________________________________\n",
      "lstm_4 (LSTM)                (None, 100, 128)          131584    \n",
      "_________________________________________________________________\n",
      "time_distributed_3 (TimeDist (None, 100, 4)            516       \n",
      "=================================================================\n",
      "Total params: 657,548\n",
      "Trainable params: 657,548\n",
      "Non-trainable params: 0\n",
      "_________________________________________________________________\n"
     ]
    }
   ],
   "source": [
    "\n",
    "model2.compile(loss='categorical_crossentropy',\n",
    "              optimizer='rmsprop',\n",
    "              metrics=['acc'])\n",
    "\n",
    "print(\"model fitting - LSTM\")\n",
    "model2.summary()"
   ]
  },
  {
   "cell_type": "code",
   "execution_count": 98,
   "metadata": {},
   "outputs": [
    {
     "name": "stdout",
     "output_type": "stream",
     "text": [
      "Epoch 1/10\n",
      "66/66 [==============================] - 36s 539ms/step - loss: 0.1360 - acc: 0.9581 - val_loss: 0.0580 - val_acc: 0.9798\n",
      "Epoch 2/10\n",
      "66/66 [==============================] - 26s 391ms/step - loss: 0.0295 - acc: 0.9896 - val_loss: 0.0391 - val_acc: 0.9865\n",
      "Epoch 3/10\n",
      "66/66 [==============================] - 26s 400ms/step - loss: 0.0129 - acc: 0.9958 - val_loss: 0.0391 - val_acc: 0.9850\n",
      "Epoch 4/10\n",
      "66/66 [==============================] - 27s 409ms/step - loss: 0.0084 - acc: 0.9972 - val_loss: 0.0382 - val_acc: 0.9883\n",
      "Epoch 5/10\n",
      "66/66 [==============================] - 28s 417ms/step - loss: 0.0056 - acc: 0.9983 - val_loss: 0.0434 - val_acc: 0.9877\n",
      "Epoch 6/10\n",
      "66/66 [==============================] - 27s 416ms/step - loss: 0.0038 - acc: 0.9988 - val_loss: 0.0539 - val_acc: 0.9860\n",
      "Epoch 7/10\n",
      "66/66 [==============================] - 26s 399ms/step - loss: 0.0032 - acc: 0.9990 - val_loss: 0.0524 - val_acc: 0.9875\n",
      "Epoch 8/10\n",
      "66/66 [==============================] - 28s 426ms/step - loss: 0.0026 - acc: 0.9992 - val_loss: 0.0490 - val_acc: 0.9871\n",
      "Epoch 9/10\n",
      "66/66 [==============================] - 27s 406ms/step - loss: 0.0018 - acc: 0.9995 - val_loss: 0.0588 - val_acc: 0.9862\n",
      "Epoch 10/10\n",
      "66/66 [==============================] - 27s 407ms/step - loss: 0.0016 - acc: 0.9996 - val_loss: 0.0654 - val_acc: 0.9881\n"
     ]
    },
    {
     "data": {
      "text/plain": [
       "<keras.callbacks.History at 0x1a292e60b8>"
      ]
     },
     "execution_count": 98,
     "metadata": {},
     "output_type": "execute_result"
    }
   ],
   "source": [
    "\n",
    "model2.fit_generator(train_generator, \n",
    "                     steps_per_epoch=n_train_samples//BATCH_SIZE,\n",
    "                     validation_data=validation_generator,\n",
    "                     validation_steps=n_val_samples//BATCH_SIZE,\n",
    "                     epochs=10,\n",
    "                     verbose=1,\n",
    "                     workers=1)"
   ]
  },
  {
   "cell_type": "code",
   "execution_count": 99,
   "metadata": {},
   "outputs": [
    {
     "name": "stdout",
     "output_type": "stream",
     "text": [
      "MODEL SAVED in Models/ as model.h5\n",
      "66/66 [==============================] - 0s 3ms/step\n",
      "TEST LOSS 0.058038 \n",
      "TEST ACCURACY: 0.990758\n"
     ]
    }
   ],
   "source": [
    "if not os.path.exists('Models/'):\n",
    "    print('MAKING DIRECTORY Models/ to save model file')\n",
    "    os.makedirs('Models/')\n",
    "\n",
    "train = True\n",
    "\n",
    "if train:\n",
    "    model.save('Models/model_semeval_lstm_v2.h5')\n",
    "    print('MODEL SAVED in Models/ as model.h5')\n",
    "else:\n",
    "    from keras.models import load_model\n",
    "    model = load_model('Models/model_semeval_lstm_v2.h5')\n",
    "\n",
    "# y_test = to_categorical(y_test, num_classes=n_tags+1)\n",
    "test_results = model.evaluate(X_test, y_test, verbose=1)\n",
    "print('TEST LOSS %f \\nTEST ACCURACY: %f' % (test_results[0], test_results[1]))"
   ]
  },
  {
   "cell_type": "code",
   "execution_count": 50,
   "metadata": {},
   "outputs": [
    {
     "data": {
      "text/plain": [
       "array([0, 0, 0, 0, 0, 0, 0, 0, 0, 0, 0, 0, 0, 0, 0, 0, 0, 0, 0, 0, 0, 0, 0,\n",
       "       0, 0, 0, 0, 0, 0, 0, 0, 0, 0, 0, 0, 0, 0, 0, 0, 0, 0, 0, 0, 0, 0, 0,\n",
       "       0, 0, 0, 0, 0, 0, 0, 0, 0, 0, 0, 0, 0, 0, 0, 0, 0, 0, 0, 0, 0, 0, 0,\n",
       "       0, 0, 0, 0, 0, 0, 0, 0, 0, 0, 0, 0, 0, 0, 0, 3, 3, 3, 3, 3, 3, 3, 3,\n",
       "       3, 3, 3, 3, 3, 2, 3, 1])"
      ]
     },
     "execution_count": 50,
     "metadata": {},
     "output_type": "execute_result"
    }
   ],
   "source": [
    "y_test[0].argmax(1)"
   ]
  },
  {
   "cell_type": "code",
   "execution_count": 51,
   "metadata": {},
   "outputs": [
    {
     "name": "stdout",
     "output_type": "stream",
     "text": [
      "66/66 [==============================] - 1s 15ms/step\n"
     ]
    }
   ],
   "source": [
    "y_pred=model.predict(X_test, verbose=1)\n",
    "yp=[y.argmax(1) for y in y_pred]\n",
    "yt=[t.argmax(1) for t in y_test]\n",
    "ytt=[m for n in [[int2tag[j] for j in k if j !=0] for k in yt] for m in n]\n",
    "ypp=[m for n in [[int2tag[j] for j in k if j !=0] for k in yp] for m in n]"
   ]
  },
  {
   "cell_type": "code",
   "execution_count": 53,
   "metadata": {
    "collapsed": true
   },
   "outputs": [],
   "source": [
    "Xtt=[m for n in [[int2word[j] for j in k if j not in [0]] for k in X_test] for m in n]"
   ]
  },
  {
   "cell_type": "code",
   "execution_count": 54,
   "metadata": {
    "collapsed": true
   },
   "outputs": [],
   "source": [
    "pred_df=pd.DataFrame(list(zip(Xtt, ytt, ypp)))\n",
    "pred_df.columns=['word', 'true', 'pred']\n",
    "pred_df_sub=pred_df[pred_df['true']!=pred_df['pred']]"
   ]
  },
  {
   "cell_type": "code",
   "execution_count": 66,
   "metadata": {},
   "outputs": [
    {
     "data": {
      "text/plain": [
       "array([[  52,    0,   14],\n",
       "       [   1,   46,   19],\n",
       "       [  12,   16, 1125]])"
      ]
     },
     "execution_count": 66,
     "metadata": {},
     "output_type": "execute_result"
    }
   ],
   "source": [
    "confusion_matrix(pred_df['true'], pred_df['pred'], labels=['e', 'c', 'n'])"
   ]
  },
  {
   "cell_type": "code",
   "execution_count": 52,
   "metadata": {},
   "outputs": [
    {
     "data": {
      "text/plain": [
       "0.95175097276264586"
      ]
     },
     "execution_count": 52,
     "metadata": {},
     "output_type": "execute_result"
    }
   ],
   "source": [
    "accuracy_score(ytt, ypp)#bi-lstm"
   ]
  },
  {
   "cell_type": "code",
   "execution_count": 95,
   "metadata": {},
   "outputs": [
    {
     "data": {
      "text/plain": [
       "0.9319838056680162"
      ]
     },
     "execution_count": 95,
     "metadata": {},
     "output_type": "execute_result"
    }
   ],
   "source": [
    "accuracy_score(ytt, ypp)#lstm"
   ]
  },
  {
   "cell_type": "code",
   "execution_count": 101,
   "metadata": {},
   "outputs": [
    {
     "data": {
      "text/plain": [
       "0.92550607287449393"
      ]
     },
     "execution_count": 101,
     "metadata": {},
     "output_type": "execute_result"
    }
   ],
   "source": [
    "accuracy_score(ytt, ypp)#lstm 2"
   ]
  },
  {
   "cell_type": "code",
   "execution_count": 64,
   "metadata": {},
   "outputs": [
    {
     "data": {
      "text/plain": [
       "1285"
      ]
     },
     "execution_count": 64,
     "metadata": {},
     "output_type": "execute_result"
    }
   ],
   "source": [
    "len(ytt)"
   ]
  },
  {
   "cell_type": "code",
   "execution_count": 65,
   "metadata": {},
   "outputs": [
    {
     "data": {
      "text/plain": [
       "['n',\n",
       " 'n',\n",
       " 'n',\n",
       " 'n',\n",
       " 'n',\n",
       " 'n',\n",
       " 'n',\n",
       " 'n',\n",
       " 'n',\n",
       " 'n',\n",
       " 'n',\n",
       " 'n',\n",
       " 'n',\n",
       " 'e',\n",
       " 'n',\n",
       " 'c',\n",
       " 'n',\n",
       " 'n',\n",
       " 'n',\n",
       " 'n',\n",
       " 'n',\n",
       " 'n',\n",
       " 'n',\n",
       " 'n',\n",
       " 'n',\n",
       " 'n',\n",
       " 'n',\n",
       " 'n',\n",
       " 'n',\n",
       " 'n',\n",
       " 'n',\n",
       " 'n',\n",
       " 'n',\n",
       " 'n',\n",
       " 'n',\n",
       " 'n',\n",
       " 'n',\n",
       " 'n',\n",
       " 'n',\n",
       " 'n',\n",
       " 'n',\n",
       " 'n',\n",
       " 'n',\n",
       " 'n',\n",
       " 'n',\n",
       " 'n',\n",
       " 'n',\n",
       " 'e',\n",
       " 'n',\n",
       " 'n',\n",
       " 'n',\n",
       " 'n',\n",
       " 'n',\n",
       " 'n',\n",
       " 'c',\n",
       " 'n',\n",
       " 'n',\n",
       " 'n',\n",
       " 'n',\n",
       " 'n',\n",
       " 'n',\n",
       " 'n',\n",
       " 'e',\n",
       " 'n',\n",
       " 'n',\n",
       " 'n',\n",
       " 'n',\n",
       " 'c',\n",
       " 'n',\n",
       " 'n',\n",
       " 'n',\n",
       " 'n',\n",
       " 'n',\n",
       " 'n',\n",
       " 'n',\n",
       " 'n',\n",
       " 'n',\n",
       " 'n',\n",
       " 'n',\n",
       " 'n',\n",
       " 'n',\n",
       " 'e',\n",
       " 'n',\n",
       " 'n',\n",
       " 'n',\n",
       " 'n',\n",
       " 'n',\n",
       " 'n',\n",
       " 'n',\n",
       " 'c',\n",
       " 'n',\n",
       " 'n',\n",
       " 'n',\n",
       " 'n',\n",
       " 'n',\n",
       " 'n',\n",
       " 'n',\n",
       " 'n',\n",
       " 'e',\n",
       " 'n',\n",
       " 'n',\n",
       " 'n',\n",
       " 'c',\n",
       " 'n',\n",
       " 'n',\n",
       " 'n',\n",
       " 'n',\n",
       " 'n',\n",
       " 'n',\n",
       " 'n',\n",
       " 'n',\n",
       " 'n',\n",
       " 'n',\n",
       " 'n',\n",
       " 'n',\n",
       " 'n',\n",
       " 'e',\n",
       " 'n',\n",
       " 'n',\n",
       " 'n',\n",
       " 'n',\n",
       " 'c',\n",
       " 'n',\n",
       " 'n',\n",
       " 'n',\n",
       " 'e',\n",
       " 'n',\n",
       " 'n',\n",
       " 'n',\n",
       " 'n',\n",
       " 'n',\n",
       " 'n',\n",
       " 'c',\n",
       " 'n',\n",
       " 'n',\n",
       " 'n',\n",
       " 'n',\n",
       " 'n',\n",
       " 'n',\n",
       " 'n',\n",
       " 'n',\n",
       " 'n',\n",
       " 'n',\n",
       " 'n',\n",
       " 'n',\n",
       " 'e',\n",
       " 'n',\n",
       " 'n',\n",
       " 'n',\n",
       " 'c',\n",
       " 'n',\n",
       " 'n',\n",
       " 'n',\n",
       " 'n',\n",
       " 'n',\n",
       " 'n',\n",
       " 'n',\n",
       " 'n',\n",
       " 'n',\n",
       " 'n',\n",
       " 'n',\n",
       " 'n',\n",
       " 'n',\n",
       " 'n',\n",
       " 'n',\n",
       " 'n',\n",
       " 'n',\n",
       " 'n',\n",
       " 'n',\n",
       " 'e',\n",
       " 'n',\n",
       " 'n',\n",
       " 'n',\n",
       " 'n',\n",
       " 'n',\n",
       " 'n',\n",
       " 'c',\n",
       " 'n',\n",
       " 'n',\n",
       " 'n',\n",
       " 'n',\n",
       " 'n',\n",
       " 'n',\n",
       " 'n',\n",
       " 'n',\n",
       " 'n',\n",
       " 'n',\n",
       " 'n',\n",
       " 'n',\n",
       " 'n',\n",
       " 'n',\n",
       " 'n',\n",
       " 'n',\n",
       " 'n',\n",
       " 'e',\n",
       " 'n',\n",
       " 'c',\n",
       " 'n',\n",
       " 'n',\n",
       " 'n',\n",
       " 'n',\n",
       " 'n',\n",
       " 'n',\n",
       " 'n',\n",
       " 'n',\n",
       " 'n',\n",
       " 'n',\n",
       " 'n',\n",
       " 'n',\n",
       " 'n',\n",
       " 'n',\n",
       " 'n',\n",
       " 'n',\n",
       " 'n',\n",
       " 'e',\n",
       " 'n',\n",
       " 'n',\n",
       " 'n',\n",
       " 'n',\n",
       " 'n',\n",
       " 'n',\n",
       " 'n',\n",
       " 'n',\n",
       " 'c',\n",
       " 'n',\n",
       " 'n',\n",
       " 'n',\n",
       " 'n',\n",
       " 'n',\n",
       " 'e',\n",
       " 'n',\n",
       " 'n',\n",
       " 'n',\n",
       " 'n',\n",
       " 'c',\n",
       " 'n',\n",
       " 'n',\n",
       " 'n',\n",
       " 'n',\n",
       " 'e',\n",
       " 'n',\n",
       " 'n',\n",
       " 'n',\n",
       " 'c',\n",
       " 'n',\n",
       " 'n',\n",
       " 'n',\n",
       " 'n',\n",
       " 'n',\n",
       " 'n',\n",
       " 'n',\n",
       " 'n',\n",
       " 'n',\n",
       " 'e',\n",
       " 'n',\n",
       " 'n',\n",
       " 'n',\n",
       " 'n',\n",
       " 'c',\n",
       " 'n',\n",
       " 'n',\n",
       " 'n',\n",
       " 'e',\n",
       " 'n',\n",
       " 'n',\n",
       " 'n',\n",
       " 'n',\n",
       " 'c',\n",
       " 'n',\n",
       " 'n',\n",
       " 'n',\n",
       " 'n',\n",
       " 'n',\n",
       " 'n',\n",
       " 'n',\n",
       " 'n',\n",
       " 'n',\n",
       " 'n',\n",
       " 'n',\n",
       " 'n',\n",
       " 'e',\n",
       " 'n',\n",
       " 'n',\n",
       " 'n',\n",
       " 'n',\n",
       " 'n',\n",
       " 'n',\n",
       " 'c',\n",
       " 'n',\n",
       " 'n',\n",
       " 'n',\n",
       " 'n',\n",
       " 'n',\n",
       " 'n',\n",
       " 'n',\n",
       " 'n',\n",
       " 'n',\n",
       " 'n',\n",
       " 'n',\n",
       " 'n',\n",
       " 'e',\n",
       " 'n',\n",
       " 'n',\n",
       " 'n',\n",
       " 'n',\n",
       " 'n',\n",
       " 'n',\n",
       " 'n',\n",
       " 'n',\n",
       " 'n',\n",
       " 'c',\n",
       " 'n',\n",
       " 'e',\n",
       " 'n',\n",
       " 'n',\n",
       " 'n',\n",
       " 'c',\n",
       " 'n',\n",
       " 'n',\n",
       " 'n',\n",
       " 'n',\n",
       " 'n',\n",
       " 'e',\n",
       " 'n',\n",
       " 'c',\n",
       " 'n',\n",
       " 'n',\n",
       " 'n',\n",
       " 'n',\n",
       " 'n',\n",
       " 'n',\n",
       " 'n',\n",
       " 'n',\n",
       " 'n',\n",
       " 'n',\n",
       " 'n',\n",
       " 'n',\n",
       " 'n',\n",
       " 'e',\n",
       " 'n',\n",
       " 'n',\n",
       " 'n',\n",
       " 'n',\n",
       " 'c',\n",
       " 'n',\n",
       " 'n',\n",
       " 'n',\n",
       " 'n',\n",
       " 'n',\n",
       " 'n',\n",
       " 'n',\n",
       " 'n',\n",
       " 'n',\n",
       " 'n',\n",
       " 'n',\n",
       " 'n',\n",
       " 'e',\n",
       " 'n',\n",
       " 'n',\n",
       " 'n',\n",
       " 'c',\n",
       " 'n',\n",
       " 'n',\n",
       " 'n',\n",
       " 'n',\n",
       " 'n',\n",
       " 'n',\n",
       " 'n',\n",
       " 'n',\n",
       " 'n',\n",
       " 'n',\n",
       " 'n',\n",
       " 'n',\n",
       " 'n',\n",
       " 'n',\n",
       " 'n',\n",
       " 'n',\n",
       " 'n',\n",
       " 'n',\n",
       " 'n',\n",
       " 'n',\n",
       " 'e',\n",
       " 'n',\n",
       " 'n',\n",
       " 'n',\n",
       " 'n',\n",
       " 'n',\n",
       " 'c',\n",
       " 'n',\n",
       " 'e',\n",
       " 'n',\n",
       " 'n',\n",
       " 'n',\n",
       " 'n',\n",
       " 'n',\n",
       " 'n',\n",
       " 'c',\n",
       " 'n',\n",
       " 'n',\n",
       " 'n',\n",
       " 'n',\n",
       " 'n',\n",
       " 'n',\n",
       " 'n',\n",
       " 'e',\n",
       " 'n',\n",
       " 'c',\n",
       " 'n',\n",
       " 'n',\n",
       " 'n',\n",
       " 'n',\n",
       " 'n',\n",
       " 'n',\n",
       " 'n',\n",
       " 'n',\n",
       " 'n',\n",
       " 'n',\n",
       " 'n',\n",
       " 'n',\n",
       " 'n',\n",
       " 'n',\n",
       " 'n',\n",
       " 'e',\n",
       " 'n',\n",
       " 'n',\n",
       " 'n',\n",
       " 'c',\n",
       " 'n',\n",
       " 'n',\n",
       " 'n',\n",
       " 'n',\n",
       " 'n',\n",
       " 'n',\n",
       " 'n',\n",
       " 'n',\n",
       " 'e',\n",
       " 'n',\n",
       " 'n',\n",
       " 'n',\n",
       " 'n',\n",
       " 'n',\n",
       " 'n',\n",
       " 'c',\n",
       " 'n',\n",
       " 'n',\n",
       " 'n',\n",
       " 'n',\n",
       " 'n',\n",
       " 'n',\n",
       " 'n',\n",
       " 'n',\n",
       " 'e',\n",
       " 'n',\n",
       " 'n',\n",
       " 'n',\n",
       " 'n',\n",
       " 'n',\n",
       " 'n',\n",
       " 'n',\n",
       " 'n',\n",
       " 'n',\n",
       " 'c',\n",
       " 'n',\n",
       " 'n',\n",
       " 'n',\n",
       " 'e',\n",
       " 'n',\n",
       " 'c',\n",
       " 'n',\n",
       " 'n',\n",
       " 'n',\n",
       " 'n',\n",
       " 'n',\n",
       " 'n',\n",
       " 'n',\n",
       " 'n',\n",
       " 'n',\n",
       " 'n',\n",
       " 'n',\n",
       " 'n',\n",
       " 'n',\n",
       " 'n',\n",
       " 'n',\n",
       " 'n',\n",
       " 'n',\n",
       " 'n',\n",
       " 'n',\n",
       " 'n',\n",
       " 'e',\n",
       " 'n',\n",
       " 'n',\n",
       " 'n',\n",
       " 'n',\n",
       " 'n',\n",
       " 'n',\n",
       " 'n',\n",
       " 'n',\n",
       " 'n',\n",
       " 'n',\n",
       " 'c',\n",
       " 'e',\n",
       " 'n',\n",
       " 'c',\n",
       " 'n',\n",
       " 'n',\n",
       " 'n',\n",
       " 'n',\n",
       " 'n',\n",
       " 'n',\n",
       " 'n',\n",
       " 'n',\n",
       " 'n',\n",
       " 'n',\n",
       " 'n',\n",
       " 'n',\n",
       " 'n',\n",
       " 'n',\n",
       " 'n',\n",
       " 'n',\n",
       " 'n',\n",
       " 'n',\n",
       " 'n',\n",
       " 'n',\n",
       " 'e',\n",
       " 'n',\n",
       " 'n',\n",
       " 'n',\n",
       " 'n',\n",
       " 'n',\n",
       " 'n',\n",
       " 'n',\n",
       " 'n',\n",
       " 'c',\n",
       " 'n',\n",
       " 'n',\n",
       " 'n',\n",
       " 'n',\n",
       " 'n',\n",
       " 'n',\n",
       " 'n',\n",
       " 'n',\n",
       " 'n',\n",
       " 'n',\n",
       " 'n',\n",
       " 'n',\n",
       " 'n',\n",
       " 'n',\n",
       " 'n',\n",
       " 'n',\n",
       " 'n',\n",
       " 'n',\n",
       " 'n',\n",
       " 'n',\n",
       " 'n',\n",
       " 'n',\n",
       " 'n',\n",
       " 'n',\n",
       " 'n',\n",
       " 'n',\n",
       " 'n',\n",
       " 'n',\n",
       " 'n',\n",
       " 'n',\n",
       " 'n',\n",
       " 'n',\n",
       " 'n',\n",
       " 'n',\n",
       " 'n',\n",
       " 'n',\n",
       " 'n',\n",
       " 'n',\n",
       " 'n',\n",
       " 'n',\n",
       " 'n',\n",
       " 'n',\n",
       " 'n',\n",
       " 'n',\n",
       " 'n',\n",
       " 'n',\n",
       " 'n',\n",
       " 'n',\n",
       " 'n',\n",
       " 'n',\n",
       " 'n',\n",
       " 'n',\n",
       " 'n',\n",
       " 'n',\n",
       " 'e',\n",
       " 'n',\n",
       " 'n',\n",
       " 'n',\n",
       " 'n',\n",
       " 'c',\n",
       " 'n',\n",
       " 'n',\n",
       " 'n',\n",
       " 'n',\n",
       " 'n',\n",
       " 'n',\n",
       " 'e',\n",
       " 'n',\n",
       " 'n',\n",
       " 'n',\n",
       " 'n',\n",
       " 'n',\n",
       " 'n',\n",
       " 'n',\n",
       " 'c',\n",
       " 'n',\n",
       " 'n',\n",
       " 'n',\n",
       " 'n',\n",
       " 'n',\n",
       " 'n',\n",
       " 'n',\n",
       " 'n',\n",
       " 'n',\n",
       " 'n',\n",
       " 'n',\n",
       " 'n',\n",
       " 'n',\n",
       " 'n',\n",
       " 'n',\n",
       " 'n',\n",
       " 'n',\n",
       " 'n',\n",
       " 'n',\n",
       " 'n',\n",
       " 'n',\n",
       " 'n',\n",
       " 'n',\n",
       " 'n',\n",
       " 'n',\n",
       " 'n',\n",
       " 'n',\n",
       " 'n',\n",
       " 'e',\n",
       " 'n',\n",
       " 'n',\n",
       " 'n',\n",
       " 'n',\n",
       " 'c',\n",
       " 'n',\n",
       " 'n',\n",
       " 'n',\n",
       " 'n',\n",
       " 'n',\n",
       " 'e',\n",
       " 'n',\n",
       " 'c',\n",
       " 'n',\n",
       " 'n',\n",
       " 'n',\n",
       " 'n',\n",
       " 'n',\n",
       " 'n',\n",
       " 'n',\n",
       " 'n',\n",
       " 'n',\n",
       " 'n',\n",
       " 'n',\n",
       " 'n',\n",
       " 'n',\n",
       " 'n',\n",
       " 'n',\n",
       " 'n',\n",
       " 'n',\n",
       " 'n',\n",
       " 'n',\n",
       " 'n',\n",
       " 'n',\n",
       " 'n',\n",
       " 'n',\n",
       " 'n',\n",
       " 'n',\n",
       " 'n',\n",
       " 'n',\n",
       " 'n',\n",
       " 'n',\n",
       " 'n',\n",
       " 'n',\n",
       " 'n',\n",
       " 'n',\n",
       " 'n',\n",
       " 'n',\n",
       " 'n',\n",
       " 'e',\n",
       " 'n',\n",
       " 'n',\n",
       " 'n',\n",
       " 'n',\n",
       " 'c',\n",
       " 'n',\n",
       " 'e',\n",
       " 'n',\n",
       " 'n',\n",
       " 'n',\n",
       " 'n',\n",
       " 'n',\n",
       " 'n',\n",
       " 'n',\n",
       " 'c',\n",
       " 'n',\n",
       " 'n',\n",
       " 'n',\n",
       " 'n',\n",
       " 'n',\n",
       " 'e',\n",
       " 'n',\n",
       " 'c',\n",
       " 'n',\n",
       " 'n',\n",
       " 'n',\n",
       " 'n',\n",
       " 'n',\n",
       " 'n',\n",
       " 'n',\n",
       " 'n',\n",
       " 'n',\n",
       " 'n',\n",
       " 'n',\n",
       " 'n',\n",
       " 'n',\n",
       " 'e',\n",
       " 'n',\n",
       " 'n',\n",
       " 'n',\n",
       " 'n',\n",
       " 'n',\n",
       " 'n',\n",
       " 'n',\n",
       " 'n',\n",
       " 'n',\n",
       " 'n',\n",
       " 'n',\n",
       " 'n',\n",
       " 'c',\n",
       " 'n',\n",
       " 'n',\n",
       " 'n',\n",
       " 'n',\n",
       " 'n',\n",
       " 'n',\n",
       " 'n',\n",
       " 'n',\n",
       " 'e',\n",
       " 'n',\n",
       " 'c',\n",
       " 'n',\n",
       " 'n',\n",
       " 'n',\n",
       " 'n',\n",
       " 'n',\n",
       " 'n',\n",
       " 'n',\n",
       " 'n',\n",
       " 'n',\n",
       " 'n',\n",
       " 'n',\n",
       " 'n',\n",
       " 'n',\n",
       " 'n',\n",
       " 'n',\n",
       " 'n',\n",
       " 'e',\n",
       " 'n',\n",
       " 'c',\n",
       " 'n',\n",
       " 'n',\n",
       " 'n',\n",
       " 'n',\n",
       " 'n',\n",
       " 'n',\n",
       " 'n',\n",
       " 'n',\n",
       " 'e',\n",
       " 'n',\n",
       " 'n',\n",
       " 'n',\n",
       " 'n',\n",
       " 'c',\n",
       " 'n',\n",
       " 'n',\n",
       " 'n',\n",
       " 'n',\n",
       " 'n',\n",
       " 'n',\n",
       " 'n',\n",
       " 'n',\n",
       " 'n',\n",
       " 'n',\n",
       " 'n',\n",
       " 'n',\n",
       " 'n',\n",
       " 'n',\n",
       " 'n',\n",
       " 'n',\n",
       " 'n',\n",
       " 'n',\n",
       " 'n',\n",
       " 'n',\n",
       " 'n',\n",
       " 'n',\n",
       " 'n',\n",
       " 'n',\n",
       " 'e',\n",
       " 'n',\n",
       " 'n',\n",
       " 'n',\n",
       " 'n',\n",
       " 'n',\n",
       " 'n',\n",
       " 'c',\n",
       " 'n',\n",
       " 'n',\n",
       " 'n',\n",
       " 'n',\n",
       " 'e',\n",
       " 'n',\n",
       " 'c',\n",
       " 'n',\n",
       " 'n',\n",
       " 'n',\n",
       " 'n',\n",
       " 'n',\n",
       " 'n',\n",
       " 'n',\n",
       " 'n',\n",
       " 'n',\n",
       " 'n',\n",
       " 'n',\n",
       " 'n',\n",
       " 'n',\n",
       " 'n',\n",
       " 'n',\n",
       " 'n',\n",
       " 'n',\n",
       " 'e',\n",
       " 'n',\n",
       " 'n',\n",
       " 'n',\n",
       " 'c',\n",
       " 'n',\n",
       " 'n',\n",
       " 'n',\n",
       " 'n',\n",
       " 'n',\n",
       " 'n',\n",
       " 'n',\n",
       " 'n',\n",
       " 'n',\n",
       " 'n',\n",
       " 'n',\n",
       " 'n',\n",
       " 'n',\n",
       " 'n',\n",
       " 'n',\n",
       " 'n',\n",
       " 'n',\n",
       " 'n',\n",
       " 'e',\n",
       " 'n',\n",
       " 'n',\n",
       " 'n',\n",
       " 'n',\n",
       " 'n',\n",
       " 'n',\n",
       " 'c',\n",
       " 'n',\n",
       " 'n',\n",
       " 'n',\n",
       " 'n',\n",
       " 'n',\n",
       " 'n',\n",
       " 'n',\n",
       " 'n',\n",
       " 'n',\n",
       " 'n',\n",
       " 'n',\n",
       " 'n',\n",
       " 'n',\n",
       " 'n',\n",
       " 'n',\n",
       " 'n',\n",
       " 'n',\n",
       " 'n',\n",
       " 'n',\n",
       " 'n',\n",
       " 'e',\n",
       " 'n',\n",
       " 'n',\n",
       " 'n',\n",
       " 'n',\n",
       " 'n',\n",
       " 'n',\n",
       " 'c',\n",
       " 'n',\n",
       " 'n',\n",
       " 'n',\n",
       " 'n',\n",
       " 'e',\n",
       " 'n',\n",
       " 'n',\n",
       " 'n',\n",
       " 'c',\n",
       " 'n',\n",
       " 'n',\n",
       " 'n',\n",
       " 'n',\n",
       " 'n',\n",
       " 'n',\n",
       " 'n',\n",
       " 'n',\n",
       " 'n',\n",
       " 'n',\n",
       " 'n',\n",
       " 'n',\n",
       " 'n',\n",
       " 'n',\n",
       " 'n',\n",
       " 'n',\n",
       " 'n',\n",
       " 'n',\n",
       " 'n',\n",
       " 'n',\n",
       " 'n',\n",
       " 'n',\n",
       " 'n',\n",
       " 'n',\n",
       " 'n',\n",
       " 'n',\n",
       " 'n',\n",
       " 'n',\n",
       " 'n',\n",
       " 'n',\n",
       " 'n',\n",
       " 'n',\n",
       " 'n',\n",
       " 'n',\n",
       " 'n',\n",
       " 'n',\n",
       " 'n',\n",
       " 'n',\n",
       " 'n',\n",
       " 'n',\n",
       " 'e',\n",
       " 'n',\n",
       " 'c',\n",
       " 'n',\n",
       " 'n',\n",
       " 'n',\n",
       " 'n',\n",
       " 'n',\n",
       " 'n',\n",
       " 'n',\n",
       " 'n',\n",
       " 'n',\n",
       " 'n',\n",
       " 'n',\n",
       " 'n',\n",
       " 'e',\n",
       " 'n',\n",
       " 'n',\n",
       " 'n',\n",
       " 'c',\n",
       " 'n',\n",
       " 'n',\n",
       " 'n',\n",
       " 'n',\n",
       " 'n',\n",
       " 'n',\n",
       " 'n',\n",
       " 'n',\n",
       " 'n',\n",
       " 'n',\n",
       " 'n',\n",
       " 'n',\n",
       " 'n',\n",
       " 'n',\n",
       " 'n',\n",
       " 'n',\n",
       " 'n',\n",
       " 'n',\n",
       " 'n',\n",
       " 'n',\n",
       " 'n',\n",
       " 'n',\n",
       " 'n',\n",
       " 'e',\n",
       " 'n',\n",
       " 'c',\n",
       " 'n',\n",
       " 'n',\n",
       " 'n',\n",
       " 'n',\n",
       " 'n',\n",
       " 'n',\n",
       " 'n',\n",
       " 'n',\n",
       " 'n',\n",
       " ...]"
      ]
     },
     "execution_count": 65,
     "metadata": {},
     "output_type": "execute_result"
    }
   ],
   "source": [
    "ytt"
   ]
  },
  {
   "cell_type": "code",
   "execution_count": 71,
   "metadata": {
    "collapsed": true
   },
   "outputs": [],
   "source": [
    "a=['']"
   ]
  },
  {
   "cell_type": "code",
   "execution_count": 72,
   "metadata": {},
   "outputs": [
    {
     "name": "stdout",
     "output_type": "stream",
     "text": [
      "o\n"
     ]
    }
   ],
   "source": [
    "if a:\n",
    "    print('o')"
   ]
  },
  {
   "cell_type": "code",
   "execution_count": null,
   "metadata": {
    "collapsed": true
   },
   "outputs": [],
   "source": []
  }
 ],
 "metadata": {
  "kernelspec": {
   "display_name": "Python 3",
   "language": "python",
   "name": "python3"
  },
  "language_info": {
   "codemirror_mode": {
    "name": "ipython",
    "version": 3
   },
   "file_extension": ".py",
   "mimetype": "text/x-python",
   "name": "python",
   "nbconvert_exporter": "python",
   "pygments_lexer": "ipython3",
   "version": "3.6.7"
  }
 },
 "nbformat": 4,
 "nbformat_minor": 2
}
